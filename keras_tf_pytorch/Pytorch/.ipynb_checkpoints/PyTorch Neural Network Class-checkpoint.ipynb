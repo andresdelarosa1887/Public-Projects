{
 "cells": [
  {
   "attachments": {
    "image.png": {
     "image/png": "[encoded data removed]"
    }
   },
   "cell_type": "markdown",
   "metadata": {},
   "source": [
    "## Neural Networks\n",
    "Ahora que sabemos como funcionan (más o menos) los tensores y el paquete de autograd para ayudarnos a calcular la backprop, podemos empezar creando una red neuronal con PyTorch\n",
    "\n",
    "Para ello se utiliza el módulo torch.nn, que depende en autograd.\n",
    "\n",
    "Un ejemplo de red neuronal sería la siguiente clasificación de dígitos\n",
    "![image.png](attachment:image.png)\n",
    "\n",
    "Es la clásica \"convnet\"\n",
    "\n",
    "Es una red feed-forward. Introduce los párametros de entrada a través de varias capas y al final nos da una salida"
   ]
  },
  {
   "cell_type": "markdown",
   "metadata": {},
   "source": [
    "Una definición genérica para entrenar esta red sería:\n",
    "- Define the neural network that has some learnable parameters (or weights)\n",
    "- Iterate over a dataset of inputs\n",
    "- Process input through the network\n",
    "- Compute the loss (how far is the output from being correct)\n",
    "- Propagate gradients back into the network’s parameters\n",
    "- Update the weights of the network, typically using a simple update rule: weight = weight - learning_rate * gradient"
   ]
  },
  {
   "cell_type": "markdown",
   "metadata": {},
   "source": [
    "#### Vamos a hacerlo!\n",
    "Lo primero, definimos la red. En general nos entra 1 imagen. Podemos aplicar 2 etapas de convolución de 5x5, de 1 a 6 y de 6 a 16 canales. y luego aplicar 3 salidas lineales para acabar con 10 salidas (para clasíficar los 10 digitos posibles)\n",
    "\n",
    "Supondremos que las imagenes de entrada son de 32x32. A parte, podríamos aplicar las capas de max pooling de 2x2 a las salidas de las capas de convolución y con las funciones de activación tipo RELU"
   ]
  },
  {
   "cell_type": "code",
   "execution_count": 1,
   "metadata": {},
   "outputs": [
    {
     "name": "stdout",
     "output_type": "stream",
     "text": [
      "Net(\n",
      "  (conv1): Conv2d(1, 6, kernel_size=(5, 5), stride=(1, 1))\n",
      "  (conv2): Conv2d(6, 16, kernel_size=(5, 5), stride=(1, 1))\n",
      "  (fc1): Linear(in_features=400, out_features=120, bias=True)\n",
      "  (fc2): Linear(in_features=120, out_features=84, bias=True)\n",
      "  (fc3): Linear(in_features=84, out_features=10, bias=True)\n",
      ")\n"
     ]
    }
   ],
   "source": [
    "import torch\n",
    "import torch.nn as nn\n",
    "import torch.nn.functional as F\n",
    "\n",
    "\n",
    "class Net(nn.Module):\n",
    "\n",
    "    def __init__(self):\n",
    "        super(Net, self).__init__()\n",
    "        # 1 input image channel, 6 output channels, 5x5 square convolution\n",
    "        # kernel\n",
    "        self.conv1 = nn.Conv2d(1, 6, 5)\n",
    "        self.conv2 = nn.Conv2d(6, 16, 5)\n",
    "        # an affine operation: y = Wx + b\n",
    "        self.fc1 = nn.Linear(16 * 5 * 5, 120)\n",
    "        self.fc2 = nn.Linear(120, 84)\n",
    "        self.fc3 = nn.Linear(84, 10)\n",
    "\n",
    "    def forward(self, x):\n",
    "        # Max pooling over a (2, 2) window\n",
    "        x = F.max_pool2d(F.relu(self.conv1(x)), (2, 2))\n",
    "        # If the size is a square you can only specify a single number\n",
    "        x = F.max_pool2d(F.relu(self.conv2(x)), 2)\n",
    "        x = x.view(-1, self.num_flat_features(x))\n",
    "        x = F.relu(self.fc1(x))\n",
    "        x = F.relu(self.fc2(x))\n",
    "        x = self.fc3(x)\n",
    "        return x\n",
    "\n",
    "    def num_flat_features(self, x):\n",
    "        size = x.size()[1:]  # all dimensions except the batch dimension\n",
    "        num_features = 1\n",
    "        for s in size:\n",
    "            num_features *= s\n",
    "        return num_features\n",
    "\n",
    "\n",
    "net = Net()\n",
    "print(net)"
   ]
  },
  {
   "cell_type": "markdown",
   "metadata": {},
   "source": [
    "Definiendo las etapas forward, las etapas de backward quedan definidas automáticamente por autograd. Los pesos que tienen que ser entrenados se pueden extraer con la siguiente función"
   ]
  },
  {
   "cell_type": "code",
   "execution_count": 2,
   "metadata": {},
   "outputs": [
    {
     "name": "stdout",
     "output_type": "stream",
     "text": [
      "10\n",
      "torch.Size([6, 1, 5, 5])\n"
     ]
    }
   ],
   "source": [
    "params = list(net.parameters())\n",
    "print(len(params))\n",
    "print(params[0].size())  # conv1's .weight"
   ]
  },
  {
   "cell_type": "code",
   "execution_count": 3,
   "metadata": {
    "scrolled": true
   },
   "outputs": [
    {
     "data": {
      "text/plain": [
       "[Parameter containing:\n",
       " tensor([[[[-0.0002, -0.1693,  0.1242,  0.0607,  0.1852],\n",
       "           [ 0.1793,  0.0281,  0.1005,  0.1706,  0.1188],\n",
       "           [-0.0660, -0.0081,  0.1091, -0.0868, -0.1188],\n",
       "           [-0.1414,  0.0059,  0.1545,  0.1038, -0.0606],\n",
       "           [-0.0730, -0.0219, -0.1207, -0.0428, -0.1813]]],\n",
       " \n",
       " \n",
       "         [[[-0.0831,  0.0785, -0.0052, -0.0898,  0.0557],\n",
       "           [-0.1862, -0.1568,  0.0814, -0.1644, -0.0278],\n",
       "           [-0.0877,  0.1118, -0.0693,  0.0786,  0.0165],\n",
       "           [-0.0417,  0.0973,  0.0943,  0.0536,  0.1428],\n",
       "           [-0.0311, -0.0943, -0.0703,  0.0111, -0.1007]]],\n",
       " \n",
       " \n",
       "         [[[-0.0865, -0.0396,  0.1780,  0.0879,  0.0047],\n",
       "           [ 0.0334,  0.1777,  0.1422, -0.1630, -0.1394],\n",
       "           [ 0.1248,  0.1130,  0.0759,  0.0236,  0.0100],\n",
       "           [-0.0490,  0.0147,  0.1781, -0.0873, -0.1126],\n",
       "           [ 0.0746, -0.1910,  0.1495, -0.1132,  0.0532]]],\n",
       " \n",
       " \n",
       "         [[[ 0.0410,  0.1541, -0.0008,  0.0409,  0.0301],\n",
       "           [-0.0283,  0.0423,  0.0480,  0.1846,  0.0220],\n",
       "           [-0.0283, -0.0595,  0.1048,  0.1897,  0.0980],\n",
       "           [ 0.0548,  0.0553,  0.1386,  0.1502,  0.0277],\n",
       "           [-0.1846,  0.1088, -0.1678,  0.1268,  0.1665]]],\n",
       " \n",
       " \n",
       "         [[[ 0.0568,  0.1730,  0.0743, -0.0718,  0.1968],\n",
       "           [-0.1907, -0.0429, -0.1450, -0.0931, -0.0878],\n",
       "           [-0.1545,  0.0815,  0.0197, -0.0043,  0.1905],\n",
       "           [ 0.0772, -0.1882, -0.1337,  0.1913, -0.1085],\n",
       "           [-0.0357, -0.1140,  0.1094, -0.1861, -0.1043]]],\n",
       " \n",
       " \n",
       "         [[[-0.0568,  0.0635,  0.1209, -0.0893,  0.1114],\n",
       "           [ 0.0235, -0.0665,  0.1406, -0.0263, -0.1404],\n",
       "           [ 0.0196,  0.1310,  0.1114, -0.0581,  0.1004],\n",
       "           [-0.1904,  0.0516, -0.1836, -0.0967, -0.0876],\n",
       "           [ 0.0500,  0.0563,  0.1295,  0.1695, -0.0207]]]], requires_grad=True),\n",
       " Parameter containing:\n",
       " tensor([ 0.1150, -0.1076,  0.0045, -0.1134, -0.0465, -0.1476],\n",
       "        requires_grad=True),\n",
       " Parameter containing:\n",
       " tensor([[[[-5.7612e-03,  5.3226e-02,  6.4312e-02, -6.4448e-02,  6.2103e-02],\n",
       "           [-6.7360e-02,  2.8970e-03,  1.9423e-02,  3.5755e-04, -6.2519e-02],\n",
       "           [-7.6751e-02,  1.5358e-02, -3.8400e-02,  4.6222e-02,  4.1810e-02],\n",
       "           [ 2.0489e-02,  3.7636e-02,  5.7444e-02, -6.9641e-02,  1.0276e-02],\n",
       "           [-4.5382e-02,  1.6730e-02, -3.5943e-02, -1.7343e-02, -7.4558e-02]],\n",
       " \n",
       "          [[-5.0938e-02, -2.9637e-02, -8.0024e-02,  3.8408e-02,  3.6267e-02],\n",
       "           [-4.7839e-02, -7.2155e-02, -6.2180e-02, -2.3381e-02, -1.3347e-02],\n",
       "           [-5.2881e-02,  8.1436e-02, -6.0510e-02, -6.4058e-02,  2.9386e-02],\n",
       "           [-8.1559e-02, -5.0218e-02, -2.3939e-02,  2.7494e-02,  3.6496e-02],\n",
       "           [ 5.9833e-02, -5.3651e-02, -5.2913e-02, -3.6778e-02,  4.0295e-02]],\n",
       " \n",
       "          [[ 6.1996e-02, -1.8700e-02, -1.3170e-02,  4.1043e-02,  1.2396e-02],\n",
       "           [ 6.4237e-02,  8.0335e-02,  3.1638e-02,  5.2102e-02, -1.4395e-02],\n",
       "           [ 1.7983e-02, -5.4740e-02, -9.9239e-04, -4.5778e-02, -5.5697e-02],\n",
       "           [ 1.9489e-02, -5.4775e-02, -7.0753e-02, -7.0981e-02,  1.6987e-03],\n",
       "           [ 3.9196e-02,  6.4764e-02,  3.9828e-03, -3.4486e-03, -1.2221e-02]],\n",
       " \n",
       "          [[ 9.7554e-03, -2.0478e-02, -4.5143e-02,  5.9205e-02,  3.7376e-02],\n",
       "           [ 5.2650e-02, -6.4524e-02,  6.6054e-02,  3.4039e-02,  5.9810e-02],\n",
       "           [-1.0272e-02,  4.8424e-02, -1.8246e-02, -5.5967e-02, -5.4339e-02],\n",
       "           [-7.1502e-02,  3.7276e-03, -1.8312e-02,  7.6616e-02, -7.3619e-02],\n",
       "           [-7.7354e-02, -6.0870e-03,  5.4997e-02,  3.3012e-02, -3.8414e-02]],\n",
       " \n",
       "          [[ 5.4834e-02, -6.6146e-02,  9.6336e-03,  7.5571e-02,  5.6824e-02],\n",
       "           [ 8.5778e-03,  3.9040e-02, -1.2434e-02,  6.5516e-02, -7.0086e-02],\n",
       "           [-4.5117e-02, -7.1756e-03,  3.1365e-02, -4.5450e-03, -5.2675e-02],\n",
       "           [ 6.9110e-02, -3.8708e-02,  3.0307e-02,  2.1343e-02, -2.7704e-02],\n",
       "           [ 2.9963e-02, -1.2583e-02,  2.6182e-02, -4.4771e-02, -1.9508e-02]],\n",
       " \n",
       "          [[ 5.3953e-02,  1.7955e-02,  6.4580e-02,  4.5841e-02, -5.3698e-02],\n",
       "           [ 7.7396e-02,  6.1301e-02,  3.6313e-02,  6.3269e-02, -3.9836e-02],\n",
       "           [-1.4834e-02, -9.9576e-03, -8.5644e-03, -2.1729e-02, -7.2985e-03],\n",
       "           [-2.8929e-02,  5.6730e-02, -5.1072e-02, -6.9020e-02,  1.1526e-02],\n",
       "           [-5.2588e-02,  7.3906e-02, -7.0311e-02, -3.1358e-02, -5.5926e-02]]],\n",
       " \n",
       " \n",
       "         [[[-3.7335e-02,  4.9514e-03, -4.9132e-02, -2.2676e-02, -2.8949e-02],\n",
       "           [ 4.6910e-02,  6.1700e-02,  5.0643e-02,  4.0353e-02,  1.0965e-02],\n",
       "           [-1.7036e-02, -1.0110e-02,  5.4991e-02,  2.0904e-02,  3.3188e-02],\n",
       "           [ 6.6787e-02, -6.2029e-02, -3.6912e-03,  7.4221e-02,  2.1939e-02],\n",
       "           [ 3.2412e-02, -3.9773e-02,  8.0980e-02, -4.9663e-02, -4.3451e-02]],\n",
       " \n",
       "          [[ 6.7108e-02,  4.6537e-02, -1.0377e-02, -6.8087e-02, -2.3818e-02],\n",
       "           [ 1.2730e-02, -3.6908e-02,  3.4675e-02,  3.3043e-02,  4.1486e-03],\n",
       "           [-6.6024e-02,  4.2246e-02, -1.8029e-02,  5.6805e-02, -6.0539e-02],\n",
       "           [-4.7322e-02, -2.5751e-02, -6.3882e-03, -2.8058e-02,  7.9694e-02],\n",
       "           [-4.0741e-02,  4.1223e-02,  4.8476e-03, -2.2796e-02,  6.5186e-02]],\n",
       " \n",
       "          [[-9.5209e-03, -1.6865e-02, -6.2993e-02,  5.2551e-02, -1.9872e-02],\n",
       "           [-4.0552e-02,  1.7640e-02,  2.7924e-02,  4.5028e-03,  2.6247e-02],\n",
       "           [-5.2205e-02, -6.5203e-02,  6.9818e-02,  2.1650e-02, -2.7795e-02],\n",
       "           [-8.0538e-02,  2.0995e-02, -4.5483e-02, -3.7583e-02, -2.4333e-02],\n",
       "           [-5.1367e-02,  9.0727e-04, -7.4889e-02, -3.9309e-02, -1.6061e-02]],\n",
       " \n",
       "          [[ 3.2767e-02, -7.1210e-02, -1.7274e-04, -6.9416e-02,  6.5917e-02],\n",
       "           [ 3.3403e-02, -4.4384e-02, -1.4056e-02, -2.1918e-03, -5.7958e-02],\n",
       "           [ 6.5235e-02,  7.0184e-02, -4.3235e-02, -3.5858e-02,  3.6094e-03],\n",
       "           [-5.8452e-02, -9.2667e-03, -6.4677e-02,  5.0554e-02, -3.9765e-02],\n",
       "           [ 1.4883e-02,  6.8254e-02,  1.7208e-02, -4.5967e-02, -1.1918e-02]],\n",
       " \n",
       "          [[ 6.2244e-03, -4.8587e-02, -6.1342e-02, -2.2831e-03, -3.1725e-02],\n",
       "           [ 6.9738e-02,  5.6301e-02,  1.6472e-02, -7.9896e-02,  4.0308e-02],\n",
       "           [-8.1408e-02, -4.9791e-02, -8.0855e-02,  3.1023e-02, -6.4278e-02],\n",
       "           [-7.2153e-02,  6.3768e-03,  5.4791e-02,  5.4707e-02, -1.1359e-02],\n",
       "           [ 4.2917e-02,  5.9300e-02,  7.7514e-03,  4.2784e-02,  2.1856e-02]],\n",
       " \n",
       "          [[ 3.8060e-02,  1.6554e-02, -4.6452e-02, -6.1106e-02, -5.8234e-02],\n",
       "           [ 7.0522e-03,  5.5281e-03,  7.5090e-02, -2.6997e-02,  6.8487e-02],\n",
       "           [-2.6695e-02, -5.3214e-02, -7.5244e-02, -7.5692e-02,  6.6923e-02],\n",
       "           [ 4.0415e-02,  6.4677e-02, -4.0250e-02,  7.1121e-02,  1.6142e-02],\n",
       "           [ 1.8300e-02,  2.7910e-02,  5.5244e-02,  3.4753e-03, -4.1546e-02]]],\n",
       " \n",
       " \n",
       "         [[[ 2.8736e-02, -3.0529e-02,  7.0624e-02,  4.9115e-02, -7.6517e-02],\n",
       "           [ 5.6978e-02, -3.3246e-02, -3.5779e-02,  6.9252e-02,  6.3255e-03],\n",
       "           [ 1.9847e-02,  1.7295e-02, -6.5625e-02, -4.8428e-02, -3.9218e-02],\n",
       "           [-2.4201e-02,  1.6674e-02, -6.4518e-02, -7.1083e-02, -5.4359e-02],\n",
       "           [ 2.1236e-02, -6.4607e-02, -6.8030e-02, -7.0427e-02, -3.7531e-02]],\n",
       " \n",
       "          [[-6.6455e-03,  3.6776e-02, -9.5911e-03,  1.2665e-03,  3.0571e-02],\n",
       "           [ 2.8409e-02,  4.9009e-02,  3.3766e-02, -4.5542e-02,  5.2246e-02],\n",
       "           [-4.5836e-02,  2.3702e-02,  1.8984e-02, -6.4518e-02, -2.7255e-02],\n",
       "           [ 2.2993e-02, -1.2567e-02,  4.1161e-02,  6.5257e-02, -5.7437e-02],\n",
       "           [-6.8409e-02,  3.3731e-02, -3.3255e-02,  5.2417e-02,  1.3502e-02]],\n",
       " \n",
       "          [[-6.9564e-02,  8.0696e-04, -5.4474e-02,  2.7650e-02, -1.2080e-02],\n",
       "           [-2.6641e-02, -4.5517e-02, -7.0971e-02, -5.8783e-03, -7.4192e-02],\n",
       "           [-3.5941e-02, -4.7593e-02, -1.9207e-02,  2.5333e-02, -6.4084e-02],\n",
       "           [ 7.6714e-02, -5.7888e-02, -3.8902e-02,  2.2855e-02,  5.1894e-02],\n",
       "           [-4.2355e-02,  1.1112e-02, -4.6023e-03, -5.8086e-02, -4.9990e-03]],\n",
       " \n",
       "          [[ 6.9092e-02, -3.4032e-02, -1.0196e-02, -3.2205e-02, -3.6488e-02],\n",
       "           [-4.0552e-03, -9.7276e-03, -3.9535e-03, -6.9207e-02,  5.1021e-02],\n",
       "           [-1.2209e-02, -5.2781e-02, -5.5215e-02, -3.5844e-02,  3.8275e-02],\n",
       "           [ 5.2699e-02, -2.1430e-02,  4.4929e-02, -6.6442e-02,  5.2465e-02],\n",
       "           [-3.3821e-02,  2.6269e-02,  3.9080e-02,  2.8092e-02,  2.8831e-02]],\n",
       " \n",
       "          [[ 2.8675e-02, -8.0227e-02, -3.5913e-02, -5.9572e-02, -6.2707e-02],\n",
       "           [-7.8691e-02, -2.5473e-02,  4.5446e-02, -7.1762e-02, -5.6377e-02],\n",
       "           [ 4.4112e-02,  6.2712e-02,  5.8537e-02, -4.0983e-03, -3.0506e-02],\n",
       "           [ 1.5695e-02, -4.5966e-03,  2.1663e-02, -6.6532e-02, -3.3050e-03],\n",
       "           [-1.2126e-02, -6.8749e-02,  6.2340e-02,  1.3116e-03, -5.6561e-02]],\n",
       " \n",
       "          [[ 7.5023e-02,  3.9437e-02,  2.8044e-02,  2.1833e-02,  7.8569e-02],\n",
       "           [-1.4240e-02,  2.3862e-02,  5.7576e-02, -1.1157e-02, -7.9076e-02],\n",
       "           [ 1.7752e-02,  3.2900e-02, -6.0053e-02,  4.7993e-02, -1.4425e-02],\n",
       "           [-3.6001e-02, -5.0725e-02,  4.3697e-02, -6.8017e-03,  1.8585e-02],\n",
       "           [-2.9644e-02, -2.9136e-02, -7.0826e-02,  2.7533e-03, -3.9936e-02]]],\n",
       " \n",
       " \n",
       "         ...,\n",
       " \n",
       " \n",
       "         [[[ 8.0778e-02, -2.2260e-02,  7.7328e-02,  5.9807e-02,  3.8746e-02],\n",
       "           [-1.4390e-02, -4.1155e-03, -1.8041e-02, -6.6942e-02, -1.6125e-02],\n",
       "           [ 4.6385e-02,  1.4260e-04, -6.7584e-02,  2.7282e-02,  2.3155e-02],\n",
       "           [-2.2573e-02, -2.0104e-02, -6.7179e-02,  7.6930e-02,  7.4302e-02],\n",
       "           [ 8.1152e-03,  5.8741e-02, -5.9716e-02,  1.0545e-02,  5.6949e-02]],\n",
       " \n",
       "          [[ 1.8551e-02,  3.2626e-02, -8.2044e-03, -3.8763e-02, -2.4277e-02],\n",
       "           [-7.9666e-02,  7.4749e-02,  3.7135e-02, -6.5389e-02,  3.5560e-02],\n",
       "           [ 6.1214e-02,  2.6415e-02,  1.2320e-02, -6.8721e-02, -4.6309e-02],\n",
       "           [-1.0109e-02, -3.7795e-02, -1.2091e-02,  5.7323e-02,  5.9183e-02],\n",
       "           [-4.2272e-02, -6.0368e-02, -6.8226e-02,  4.4076e-02, -3.9497e-02]],\n",
       " \n",
       "          [[-7.1182e-02, -8.1616e-02,  6.6406e-02,  4.6204e-02,  5.3805e-02],\n",
       "           [-2.5996e-02,  1.8466e-02, -9.9238e-03,  7.6963e-02,  4.6875e-02],\n",
       "           [-6.0746e-02, -5.4342e-02, -7.8578e-02, -6.3325e-02,  6.1995e-02],\n",
       "           [ 7.2845e-02,  4.0235e-03,  3.5960e-02,  3.3555e-02, -1.0327e-02],\n",
       "           [-3.5295e-02,  2.6052e-02,  4.3039e-04,  1.0890e-02, -6.1744e-02]],\n",
       " \n",
       "          [[-2.7541e-02,  3.1953e-02,  3.4757e-02,  3.1052e-02,  9.5640e-03],\n",
       "           [ 2.7511e-02, -7.1737e-02, -3.6658e-02, -1.7235e-02,  5.6190e-02],\n",
       "           [ 3.3300e-03, -1.0863e-02,  5.2287e-02,  6.5421e-02, -8.1557e-02],\n",
       "           [-1.7275e-02, -7.0442e-02,  5.1895e-02,  1.2467e-02,  5.0771e-03],\n",
       "           [ 7.3194e-02,  7.9075e-02,  6.7396e-02, -2.8522e-02,  7.3798e-02]],\n",
       " \n",
       "          [[ 4.9005e-02, -5.6522e-02, -7.7850e-02, -1.9307e-02, -4.3734e-02],\n",
       "           [ 4.6475e-02, -1.7162e-02,  3.8147e-05,  7.0355e-02, -8.0667e-02],\n",
       "           [-3.5622e-02,  3.8999e-02, -4.9990e-02,  4.3921e-02, -6.8190e-03],\n",
       "           [-3.4783e-02,  3.7164e-02,  3.6724e-02,  6.5729e-03, -3.6221e-02],\n",
       "           [-1.3017e-02, -5.8113e-02,  4.4498e-02,  6.2351e-02, -1.2091e-02]],\n",
       " \n",
       "          [[ 1.5815e-02, -4.6574e-02,  1.4800e-02, -2.5902e-02,  4.9723e-02],\n",
       "           [-3.2035e-02,  4.8385e-02,  1.1036e-03,  4.9724e-02,  4.1380e-02],\n",
       "           [ 2.1773e-02, -7.4058e-02, -7.1324e-02,  1.6074e-02,  5.4963e-02],\n",
       "           [-6.8417e-02, -1.6163e-02,  4.0796e-02,  6.5242e-02, -2.2289e-02],\n",
       "           [ 2.6270e-02, -2.5392e-02,  7.0112e-02,  1.2788e-02,  7.6395e-02]]],\n",
       " \n",
       " \n",
       "         [[[ 4.6845e-02,  5.1381e-02, -8.0275e-02, -5.8045e-02, -6.1734e-02],\n",
       "           [-5.8034e-02, -4.4211e-02, -4.5207e-02, -5.4443e-02, -6.9274e-02],\n",
       "           [-5.9678e-02, -7.1141e-02,  6.3222e-02,  2.8996e-02, -4.3749e-02],\n",
       "           [ 2.5022e-02,  3.8148e-02, -5.5785e-02,  2.9914e-02, -3.4045e-02],\n",
       "           [-1.9420e-02, -4.1994e-03, -1.9792e-02, -2.9252e-02,  1.6545e-03]],\n",
       " \n",
       "          [[ 2.4595e-02,  6.1036e-02, -4.1759e-02,  3.9896e-02, -7.5838e-02],\n",
       "           [ 7.6551e-02, -2.0369e-02,  6.8081e-02, -3.1255e-02, -6.3627e-03],\n",
       "           [ 6.0148e-03,  9.7868e-03,  5.9505e-02, -5.8645e-02,  6.0296e-03],\n",
       "           [-3.9993e-02,  5.9437e-02, -4.6243e-02, -2.0134e-02,  1.1682e-02],\n",
       "           [-5.3363e-03, -4.3492e-02, -6.5933e-02, -4.7416e-02,  7.4805e-02]],\n",
       " \n",
       "          [[-7.5475e-02, -3.6750e-02,  5.9299e-02,  4.4370e-02,  7.6692e-02],\n",
       "           [ 3.9007e-02, -3.8164e-02,  6.9411e-02, -3.3844e-02, -1.6659e-02],\n",
       "           [ 1.3011e-02, -4.1347e-02, -7.0921e-02,  4.3806e-02, -4.8555e-02],\n",
       "           [ 4.7860e-02, -5.1149e-02,  4.7735e-02,  4.8555e-02,  2.5938e-02],\n",
       "           [ 1.1971e-02,  4.2295e-02, -3.9980e-02, -4.5741e-02,  7.2704e-02]],\n",
       " \n",
       "          [[ 6.2113e-02, -2.3846e-02, -3.6955e-03, -2.5560e-02, -3.2746e-02],\n",
       "           [-6.4195e-02, -3.6531e-03, -6.8819e-02,  6.2546e-02,  5.8297e-02],\n",
       "           [-3.5735e-02, -5.5896e-02,  4.0357e-02, -2.7881e-02, -3.1063e-02],\n",
       "           [-8.1504e-02, -4.0927e-02,  6.3149e-02,  2.1110e-02, -6.8985e-03],\n",
       "           [-6.2661e-02, -2.5637e-02,  3.6832e-03,  6.8968e-02, -6.3911e-02]],\n",
       " \n",
       "          [[ 1.1593e-02, -5.5076e-02,  6.0520e-03,  1.1767e-02,  3.4919e-02],\n",
       "           [-5.1291e-02, -8.0465e-02,  3.7287e-02,  2.8140e-02, -4.9929e-02],\n",
       "           [-7.6710e-02,  7.8365e-03, -1.3648e-02,  2.2701e-02, -5.7151e-03],\n",
       "           [ 4.0528e-02, -5.7276e-02,  1.8985e-02, -3.8605e-02, -2.0054e-02],\n",
       "           [-3.0603e-02, -1.6346e-02, -4.0510e-02,  3.0777e-02,  6.1591e-02]],\n",
       " \n",
       "          [[ 1.2651e-02,  4.1837e-02, -5.2178e-02, -3.0800e-02,  2.9608e-02],\n",
       "           [ 6.6703e-02,  2.8763e-02,  3.4927e-02,  7.3337e-02,  2.1845e-02],\n",
       "           [ 3.1223e-02, -2.9537e-02, -7.1615e-02,  8.1445e-02, -5.4454e-02],\n",
       "           [-3.7590e-02,  2.1042e-02,  8.0868e-02, -7.1304e-02,  1.0355e-02],\n",
       "           [ 7.7183e-02, -3.0546e-02,  2.3294e-02, -6.5103e-02,  5.2600e-02]]],\n",
       " \n",
       " \n",
       "         [[[ 9.4937e-03,  2.9534e-02, -5.4242e-02,  4.8775e-04, -5.7270e-02],\n",
       "           [-7.3847e-02,  7.0815e-02, -6.5268e-02,  2.7578e-02, -1.4576e-02],\n",
       "           [ 6.9525e-03, -2.6285e-02,  7.2472e-02,  3.2235e-02, -2.3194e-02],\n",
       "           [ 5.9879e-02,  6.9624e-02, -3.1706e-02,  7.4295e-02,  3.2380e-04],\n",
       "           [ 3.1343e-02, -2.1094e-02,  5.7332e-02, -4.2091e-02, -6.5777e-02]],\n",
       " \n",
       "          [[-3.5741e-02, -7.3816e-02, -1.9655e-02,  1.8366e-02, -5.8947e-02],\n",
       "           [ 9.7635e-04, -3.8895e-02, -6.8062e-03,  2.2048e-02,  3.4685e-02],\n",
       "           [-7.0827e-02, -8.6511e-03,  2.6312e-02,  5.3507e-03, -5.3747e-02],\n",
       "           [-3.9808e-02, -1.8664e-02,  1.5614e-02, -7.4325e-02, -6.6165e-02],\n",
       "           [-3.6941e-02, -1.3053e-02, -1.0654e-02,  8.3004e-03,  3.4692e-02]],\n",
       " \n",
       "          [[ 6.6029e-02,  3.0168e-02, -4.3933e-02,  5.7690e-02,  1.1107e-02],\n",
       "           [-5.7105e-02, -7.0912e-02, -3.2498e-02,  6.2202e-03, -1.0343e-02],\n",
       "           [ 2.1582e-02,  2.1622e-02, -3.3894e-02, -1.2277e-03, -1.1819e-02],\n",
       "           [-7.3956e-02, -5.0651e-03,  7.3691e-02,  5.4664e-02, -7.8250e-03],\n",
       "           [ 2.5103e-04,  1.1964e-02, -6.1273e-02,  7.7555e-02,  4.2463e-02]],\n",
       " \n",
       "          [[-6.9888e-02, -6.3979e-02, -7.9735e-02, -7.1347e-02, -4.7247e-02],\n",
       "           [-3.6667e-02, -7.4393e-02,  3.3881e-02, -8.0892e-02,  5.7715e-02],\n",
       "           [ 2.8732e-02, -2.6877e-02,  5.8038e-02,  4.2147e-02,  5.4102e-02],\n",
       "           [-4.1862e-02, -7.8531e-02,  6.0072e-02, -7.1080e-03, -1.0421e-02],\n",
       "           [-6.2514e-02, -3.3437e-02,  4.9239e-02, -4.6192e-02,  5.0108e-02]],\n",
       " \n",
       "          [[-6.8708e-02, -1.2668e-02,  6.6364e-02,  2.9823e-02,  1.5482e-02],\n",
       "           [-4.2822e-02, -6.3179e-02,  7.1002e-02,  3.7805e-02,  7.4727e-02],\n",
       "           [-6.6829e-03, -4.9131e-02, -4.5768e-03, -4.1210e-02, -7.4010e-02],\n",
       "           [-5.9046e-02, -3.7946e-02,  7.8666e-02,  5.9945e-02,  4.0563e-02],\n",
       "           [ 1.9826e-02,  2.6249e-02, -6.1987e-02,  5.4669e-02,  3.0409e-02]],\n",
       " \n",
       "          [[ 3.2182e-02, -7.0999e-02,  5.0350e-03, -7.3241e-02,  2.4285e-02],\n",
       "           [ 2.4227e-03, -3.9149e-02, -2.1788e-02, -9.1692e-03, -4.9749e-02],\n",
       "           [ 2.4741e-02, -1.0976e-02,  3.2376e-02, -1.8154e-02, -7.5747e-02],\n",
       "           [ 5.1457e-02,  3.5883e-02, -3.9006e-02,  3.3355e-02,  7.8358e-02],\n",
       "           [-2.0012e-02,  2.1960e-02, -6.8523e-02,  4.0571e-02,  1.0543e-02]]]],\n",
       "        requires_grad=True),\n",
       " Parameter containing:\n",
       " tensor([-0.0363, -0.0162,  0.0545,  0.0749, -0.0443,  0.0270, -0.0675,  0.0240,\n",
       "         -0.0084,  0.0475,  0.0679,  0.0276, -0.0559,  0.0111, -0.0191, -0.0030],\n",
       "        requires_grad=True),\n",
       " Parameter containing:\n",
       " tensor([[ 0.0329,  0.0255,  0.0441,  ..., -0.0212,  0.0060,  0.0381],\n",
       "         [-0.0410,  0.0184, -0.0337,  ...,  0.0093,  0.0214, -0.0128],\n",
       "         [-0.0378,  0.0344, -0.0241,  ...,  0.0180, -0.0210, -0.0206],\n",
       "         ...,\n",
       "         [-0.0333,  0.0402, -0.0007,  ...,  0.0038, -0.0478,  0.0021],\n",
       "         [-0.0494,  0.0061, -0.0479,  ...,  0.0022,  0.0302,  0.0019],\n",
       "         [ 0.0393, -0.0384, -0.0380,  ..., -0.0462, -0.0076, -0.0218]],\n",
       "        requires_grad=True),\n",
       " Parameter containing:\n",
       " tensor([-3.8491e-02, -9.6177e-04, -7.6828e-03,  4.8706e-02,  2.1083e-02,\n",
       "         -8.3119e-05, -3.1718e-02, -3.1988e-02, -1.1321e-02,  2.9841e-02,\n",
       "          3.7539e-02,  4.6913e-02,  4.8365e-02, -1.1236e-02, -7.2281e-03,\n",
       "         -3.0309e-02, -7.0714e-03,  4.2010e-02,  8.7577e-03,  9.8885e-03,\n",
       "         -1.7518e-02, -1.0647e-02,  3.6727e-02, -1.1873e-02,  3.8487e-02,\n",
       "         -2.9287e-02, -3.8658e-02,  3.1526e-02,  3.0197e-02, -4.2793e-03,\n",
       "          4.8019e-02, -2.1850e-02,  7.9748e-03, -2.1638e-02, -4.7095e-02,\n",
       "         -3.5696e-02,  2.3402e-02, -8.7531e-03,  4.5737e-02,  3.4653e-02,\n",
       "          3.9927e-02,  5.4224e-03, -9.5896e-03,  2.9670e-03, -2.0503e-02,\n",
       "         -3.5756e-02,  4.4688e-02,  3.5982e-02, -2.5147e-02,  1.3509e-02,\n",
       "          4.3919e-02,  3.6059e-02, -3.5336e-02,  3.5742e-02,  4.3197e-02,\n",
       "         -1.9457e-03,  3.5949e-02,  3.1431e-02,  3.6975e-02, -1.7688e-02,\n",
       "          4.5536e-02, -6.8902e-03, -1.4552e-02, -1.8598e-02,  4.2813e-02,\n",
       "         -5.9210e-03,  1.5828e-02,  1.6049e-02,  4.1773e-02, -4.6169e-02,\n",
       "          8.3628e-03, -2.0232e-02, -3.0691e-02,  3.9536e-02, -2.7868e-02,\n",
       "         -2.9455e-02,  4.9531e-02,  2.3980e-02,  2.9252e-02,  2.2175e-02,\n",
       "          3.0053e-02, -7.1415e-03, -1.4809e-02, -2.6127e-02,  1.0600e-02,\n",
       "         -3.2778e-02,  3.3003e-02, -4.8451e-02,  1.9578e-02,  3.4299e-03,\n",
       "         -3.4372e-02, -1.1421e-03,  3.0751e-02,  2.4968e-03,  2.3992e-02,\n",
       "         -3.7199e-02,  4.8288e-02,  2.0984e-03, -2.6265e-03, -4.7905e-02,\n",
       "         -1.2578e-02,  4.5280e-02, -2.6744e-02, -1.1048e-02,  1.6442e-02,\n",
       "          3.2941e-03,  3.4606e-02,  4.2829e-02, -4.2208e-02,  1.8865e-02,\n",
       "          6.5722e-03,  1.0945e-02,  1.4304e-02,  3.4295e-02,  3.3883e-02,\n",
       "         -2.9387e-02, -2.2029e-02, -3.7561e-02, -3.3507e-02,  2.0216e-02],\n",
       "        requires_grad=True),\n",
       " Parameter containing:\n",
       " tensor([[ 0.0767, -0.0738,  0.0292,  ..., -0.0775, -0.0203,  0.0084],\n",
       "         [-0.0327, -0.0568,  0.0463,  ...,  0.0274,  0.0503,  0.0363],\n",
       "         [ 0.0059,  0.0406, -0.0449,  ...,  0.0893,  0.0053, -0.0841],\n",
       "         ...,\n",
       "         [-0.0011,  0.0357,  0.0138,  ..., -0.0247, -0.0168,  0.0793],\n",
       "         [-0.0095,  0.0245,  0.0573,  ..., -0.0384, -0.0723,  0.0300],\n",
       "         [ 0.0780,  0.0857,  0.0010,  ..., -0.0734, -0.0378, -0.0082]],\n",
       "        requires_grad=True),\n",
       " Parameter containing:\n",
       " tensor([-0.0729, -0.0719,  0.0368,  0.0657,  0.0501, -0.0792,  0.0373, -0.0385,\n",
       "         -0.0211, -0.0421, -0.0182,  0.0147, -0.0637,  0.0586, -0.0478, -0.0525,\n",
       "          0.0225,  0.0547,  0.0394,  0.0315,  0.0131, -0.0031, -0.0647, -0.0853,\n",
       "         -0.0854,  0.0301,  0.0214, -0.0012, -0.0192,  0.0852, -0.0699,  0.0365,\n",
       "         -0.0686,  0.0060,  0.0130,  0.0880,  0.0684, -0.0899,  0.0636,  0.0515,\n",
       "          0.0088,  0.0727,  0.0696,  0.0651, -0.0907, -0.0624,  0.0729,  0.0439,\n",
       "          0.0814,  0.0378, -0.0814, -0.0850, -0.0466, -0.0353, -0.0497, -0.0668,\n",
       "          0.0155, -0.0870,  0.0832, -0.0445, -0.0520,  0.0402,  0.0668, -0.0499,\n",
       "         -0.0547,  0.0570, -0.0760,  0.0846,  0.0528,  0.0665,  0.0551, -0.0495,\n",
       "         -0.0700, -0.0442,  0.0814, -0.0031, -0.0362,  0.0051, -0.0885,  0.0617,\n",
       "          0.0379, -0.0227, -0.0711,  0.0320], requires_grad=True),\n",
       " Parameter containing:\n",
       " tensor([[-0.0060,  0.0372,  0.0874, -0.0561, -0.0226, -0.0236,  0.0562,  0.0844,\n",
       "           0.0656,  0.0644,  0.0057,  0.0238,  0.0899, -0.1069,  0.0444, -0.1046,\n",
       "           0.0383, -0.0912, -0.0849,  0.0390, -0.0195,  0.0974, -0.0454,  0.0013,\n",
       "           0.0578, -0.1048,  0.0829,  0.0633, -0.0563, -0.0845, -0.0323,  0.0528,\n",
       "           0.0542, -0.0616,  0.0456,  0.0949,  0.0020,  0.0886, -0.0518,  0.0763,\n",
       "           0.0067, -0.0053,  0.0947, -0.0181,  0.0683, -0.0803,  0.0599, -0.0192,\n",
       "          -0.0921,  0.0492,  0.0626,  0.0536,  0.0577, -0.0082, -0.0901, -0.0259,\n",
       "          -0.0105,  0.0824,  0.0760, -0.0216,  0.1023, -0.0388, -0.0607, -0.0140,\n",
       "           0.0065, -0.0900,  0.0917,  0.0953,  0.0624, -0.0365, -0.0679,  0.0133,\n",
       "          -0.0656, -0.0034,  0.0737, -0.0041,  0.0097,  0.0344, -0.0888, -0.0943,\n",
       "           0.0516,  0.0227, -0.0934,  0.0254],\n",
       "         [-0.0462, -0.0776, -0.0055,  0.0218, -0.0915, -0.0017, -0.0840, -0.1008,\n",
       "           0.0793, -0.0550,  0.0536, -0.0127,  0.0896, -0.0463, -0.0478, -0.0416,\n",
       "           0.0611,  0.1081,  0.0658, -0.0600, -0.0425, -0.0051, -0.0122,  0.1017,\n",
       "           0.0894, -0.0353, -0.0013, -0.0434,  0.0747, -0.0351, -0.0992, -0.0022,\n",
       "           0.0803, -0.1010,  0.0620,  0.0835,  0.0507, -0.0790, -0.0446,  0.0368,\n",
       "          -0.0354, -0.0261, -0.0266, -0.0570, -0.0852, -0.0372, -0.0292, -0.0727,\n",
       "           0.1074,  0.0824,  0.0556, -0.1020, -0.0627, -0.0595, -0.0848,  0.0113,\n",
       "           0.0739,  0.0606, -0.0396,  0.0499,  0.0364,  0.0324, -0.0024,  0.0256,\n",
       "           0.0984,  0.0881,  0.1056, -0.0911, -0.0354, -0.0076, -0.0771, -0.0379,\n",
       "           0.0060, -0.0355, -0.0312, -0.0854, -0.0812, -0.0562,  0.0840, -0.0763,\n",
       "          -0.0604, -0.0103,  0.1037,  0.0587],\n",
       "         [ 0.0036,  0.0875,  0.1075, -0.1005,  0.1066,  0.0849, -0.0532,  0.0862,\n",
       "          -0.0949,  0.0897, -0.0513,  0.0874,  0.0218, -0.0423, -0.0185, -0.0222,\n",
       "          -0.1024,  0.0149,  0.0051,  0.0069,  0.0730,  0.0478,  0.0259,  0.0488,\n",
       "           0.0031, -0.0955, -0.0331,  0.0061,  0.1061, -0.0700, -0.0796, -0.0100,\n",
       "           0.0496,  0.0603,  0.0314,  0.0325, -0.0535, -0.0472, -0.0633,  0.0224,\n",
       "           0.1019, -0.0116, -0.0107, -0.0147, -0.0469, -0.0308,  0.0891,  0.0505,\n",
       "          -0.0647, -0.0280,  0.0293, -0.0076,  0.1031, -0.0147,  0.0691,  0.0420,\n",
       "          -0.0981, -0.0472, -0.0031, -0.0219,  0.0513, -0.0996, -0.1001,  0.0868,\n",
       "           0.0851,  0.0572, -0.0481, -0.0918, -0.1079, -0.0362, -0.0201, -0.0777,\n",
       "           0.0661, -0.0329,  0.0766,  0.0340,  0.0338,  0.0044, -0.0105, -0.0843,\n",
       "           0.0237, -0.0853,  0.0099,  0.0614],\n",
       "         [-0.0552,  0.0030, -0.0882,  0.0310, -0.1006, -0.0661,  0.0856, -0.0798,\n",
       "          -0.0931, -0.0482,  0.0754, -0.0543,  0.1086, -0.0972,  0.0303, -0.0706,\n",
       "           0.0626, -0.0430,  0.0129,  0.0518, -0.0166,  0.1041, -0.0631, -0.0593,\n",
       "           0.0866,  0.0128, -0.0146, -0.0650,  0.0560, -0.0827,  0.0638,  0.0181,\n",
       "          -0.0493, -0.0434, -0.0933,  0.0151,  0.0093,  0.0912, -0.0639, -0.0289,\n",
       "          -0.0259,  0.1080, -0.0265,  0.0529,  0.0466,  0.0547, -0.0934, -0.1021,\n",
       "           0.0847, -0.0725,  0.0806, -0.0946, -0.0819,  0.0186, -0.0490, -0.0466,\n",
       "          -0.0108, -0.1083, -0.0427,  0.0876, -0.0605, -0.0197, -0.0684, -0.0255,\n",
       "           0.0573, -0.0947,  0.0534, -0.0263, -0.0052,  0.0819, -0.0602,  0.0043,\n",
       "           0.0440, -0.0048, -0.0953,  0.0310, -0.0022,  0.0969,  0.0715, -0.0923,\n",
       "           0.1048, -0.0702, -0.0408,  0.0096],\n",
       "         [ 0.0231,  0.0050, -0.0826, -0.1022,  0.0878, -0.1067, -0.0100,  0.0271,\n",
       "          -0.0391, -0.0267,  0.1081,  0.1043, -0.0282,  0.0769, -0.0540,  0.0239,\n",
       "           0.0847, -0.0708, -0.0462, -0.0330,  0.0047,  0.0813,  0.0702,  0.0396,\n",
       "           0.0912, -0.0767, -0.0711,  0.0399, -0.0030,  0.0545,  0.0626,  0.0996,\n",
       "          -0.0562,  0.0841, -0.0184,  0.0443, -0.0233,  0.0622, -0.0020, -0.0449,\n",
       "          -0.0968,  0.0506,  0.0034, -0.0742, -0.0490,  0.1010, -0.0734,  0.0224,\n",
       "           0.0840,  0.0200, -0.0443,  0.1015, -0.0801, -0.0018,  0.0678, -0.0089,\n",
       "           0.0445, -0.0310, -0.0189,  0.0019,  0.0548, -0.0425,  0.0226,  0.0950,\n",
       "           0.0179,  0.0623,  0.0436, -0.0274, -0.0587,  0.0636,  0.0480,  0.0292,\n",
       "          -0.0798, -0.0139, -0.0350, -0.0389,  0.0256, -0.0700,  0.0993, -0.0260,\n",
       "          -0.0174, -0.0360,  0.0079,  0.0948],\n",
       "         [-0.0697,  0.0666,  0.0378, -0.0546, -0.0121, -0.0545, -0.0978, -0.0014,\n",
       "           0.0031, -0.0036,  0.0025,  0.1068,  0.0630, -0.0249,  0.0456, -0.0652,\n",
       "           0.0275,  0.0413, -0.0862, -0.0320,  0.0664,  0.1006,  0.0601,  0.0654,\n",
       "           0.0839,  0.0064,  0.0769, -0.0831,  0.0758, -0.0430,  0.0517,  0.0513,\n",
       "          -0.0031, -0.0421,  0.0555, -0.0486, -0.0031, -0.0005,  0.0020,  0.1066,\n",
       "          -0.0738,  0.0306,  0.1070,  0.0717,  0.0985, -0.0561,  0.0780,  0.0512,\n",
       "          -0.0711, -0.0621, -0.0961, -0.0595,  0.0888,  0.0339,  0.0467,  0.0194,\n",
       "          -0.0660, -0.0314,  0.0587, -0.0791,  0.0958,  0.0793, -0.0920, -0.0525,\n",
       "          -0.0484, -0.0451, -0.0941,  0.0130, -0.0726, -0.0084,  0.0563,  0.0326,\n",
       "          -0.0525, -0.1029,  0.0373,  0.0455,  0.0528,  0.0183,  0.1058,  0.0804,\n",
       "          -0.1079,  0.0376,  0.0293, -0.0490],\n",
       "         [-0.0821,  0.0746,  0.0119, -0.0278, -0.0073, -0.0874, -0.0436,  0.0622,\n",
       "           0.0649, -0.0068,  0.0480, -0.0117, -0.0682,  0.0971, -0.0313,  0.0880,\n",
       "           0.0075,  0.0909,  0.0643, -0.0075, -0.0165, -0.0065,  0.0593, -0.0986,\n",
       "           0.0014, -0.0049,  0.0609, -0.0377, -0.0786,  0.0839, -0.0706, -0.0489,\n",
       "          -0.0292, -0.0611, -0.0715,  0.0947, -0.0872,  0.0519,  0.0751,  0.0993,\n",
       "           0.0692, -0.0241, -0.0033,  0.0848, -0.0133,  0.0718,  0.0772,  0.0606,\n",
       "          -0.0329,  0.0399, -0.1004, -0.1076,  0.0922,  0.0844, -0.0343, -0.1024,\n",
       "          -0.0348, -0.0448, -0.0928, -0.0934, -0.0587,  0.0937, -0.0907,  0.0295,\n",
       "          -0.0426, -0.0985, -0.0177, -0.1016,  0.0058,  0.0850, -0.0456, -0.0080,\n",
       "          -0.0631,  0.0633,  0.0329, -0.0568, -0.1080,  0.0578,  0.0848, -0.0816,\n",
       "           0.0375,  0.0827, -0.0665,  0.0947],\n",
       "         [ 0.0285, -0.0301, -0.0296,  0.1045, -0.0454,  0.0805,  0.0610,  0.0522,\n",
       "           0.1059,  0.0494, -0.0946, -0.0600,  0.0392, -0.0932,  0.0617,  0.0917,\n",
       "           0.0793,  0.0158,  0.0796, -0.0439, -0.0816,  0.0797,  0.0947, -0.0336,\n",
       "          -0.0908,  0.0200,  0.0894,  0.0949, -0.0216,  0.0458,  0.0921, -0.0160,\n",
       "           0.0860,  0.0435,  0.0212,  0.1054, -0.0617, -0.0840, -0.0184, -0.0276,\n",
       "          -0.0989,  0.0007,  0.0353,  0.1045,  0.1016,  0.0652, -0.1086,  0.0022,\n",
       "           0.0093,  0.0794, -0.1086,  0.0676, -0.0309,  0.1052,  0.0681, -0.0702,\n",
       "           0.0057, -0.0678, -0.0122, -0.0941, -0.0610,  0.0342, -0.1001,  0.0579,\n",
       "          -0.0250, -0.0504, -0.0213, -0.1003, -0.0596,  0.0913, -0.0016, -0.1079,\n",
       "           0.0524,  0.0299, -0.0660, -0.0197,  0.0024,  0.1088, -0.1030, -0.0684,\n",
       "           0.0291,  0.0952, -0.0345,  0.0683],\n",
       "         [ 0.0735,  0.0270,  0.0512,  0.0743,  0.0725, -0.0600, -0.0228, -0.0739,\n",
       "           0.0386,  0.0378,  0.0263, -0.0427, -0.0628, -0.0406,  0.0289,  0.0461,\n",
       "           0.0698,  0.0997, -0.0685,  0.0662, -0.0276,  0.0796, -0.0831,  0.0845,\n",
       "           0.0398,  0.1086, -0.0282, -0.0594,  0.0415,  0.0343,  0.0236,  0.0190,\n",
       "           0.0550, -0.0302,  0.0995, -0.0915,  0.0350,  0.1016,  0.0733,  0.0660,\n",
       "          -0.0235, -0.0125, -0.0066,  0.0063, -0.0059, -0.1080,  0.0952,  0.0339,\n",
       "           0.1081,  0.0318, -0.0465, -0.0874,  0.0684,  0.0308, -0.0041, -0.0346,\n",
       "           0.0058, -0.0076,  0.0332,  0.0043,  0.0544,  0.0455,  0.0208,  0.1020,\n",
       "          -0.0312,  0.0283, -0.0943, -0.1019, -0.0971, -0.0593, -0.0347, -0.0275,\n",
       "          -0.0923,  0.0225,  0.0290, -0.0551, -0.0858, -0.0697,  0.0314, -0.0203,\n",
       "           0.0399, -0.0946, -0.0580,  0.0045],\n",
       "         [-0.0914, -0.0423,  0.0864, -0.0164, -0.1082, -0.0342, -0.0898, -0.0317,\n",
       "           0.0057,  0.0304, -0.0988,  0.0599, -0.1023, -0.0771,  0.0707,  0.0170,\n",
       "          -0.0592, -0.0114,  0.0990, -0.0095,  0.0913,  0.1062,  0.0992,  0.1066,\n",
       "           0.0454,  0.0462, -0.0975,  0.0506,  0.0319,  0.0402,  0.0877,  0.0035,\n",
       "          -0.0581, -0.0319, -0.0377,  0.0385, -0.1021, -0.0611,  0.0884, -0.0921,\n",
       "           0.0263, -0.0792, -0.0758,  0.0650,  0.0392,  0.0241, -0.0819,  0.0664,\n",
       "           0.1003,  0.0629,  0.0198, -0.0247, -0.0866,  0.0687, -0.0280,  0.0716,\n",
       "           0.1029,  0.0221, -0.0820, -0.0220,  0.0011,  0.0238,  0.0500, -0.0538,\n",
       "           0.0080, -0.0644, -0.0296, -0.0553, -0.0621, -0.0401, -0.0349, -0.0941,\n",
       "           0.0245, -0.0923, -0.0893, -0.0685, -0.0029, -0.0497, -0.0089, -0.0345,\n",
       "           0.0439,  0.0750, -0.0624, -0.0778]], requires_grad=True),\n",
       " Parameter containing:\n",
       " tensor([ 0.0597,  0.0900,  0.0196, -0.0032, -0.0449,  0.0378,  0.0285,  0.0061,\n",
       "         -0.0510,  0.0743], requires_grad=True)]"
      ]
     },
     "execution_count": 3,
     "metadata": {},
     "output_type": "execute_result"
    }
   ],
   "source": [
    "params"
   ]
  },
  {
   "cell_type": "markdown",
   "metadata": {},
   "source": [
    "Veamos que pasa si introducimos una imagen cualquiera de 32x32 a esta red"
   ]
  },
  {
   "cell_type": "code",
   "execution_count": 4,
   "metadata": {},
   "outputs": [
    {
     "name": "stdout",
     "output_type": "stream",
     "text": [
      "tensor([[ 0.0674,  0.0737, -0.0476, -0.0160,  0.0001,  0.0331,  0.0484,  0.0249,\n",
      "          0.0051,  0.0767]], grad_fn=<AddmmBackward>)\n"
     ]
    }
   ],
   "source": [
    "input = torch.randn(1, 1, 32, 32)\n",
    "out = net(input)\n",
    "print(out)"
   ]
  },
  {
   "cell_type": "code",
   "execution_count": 6,
   "metadata": {},
   "outputs": [
    {
     "data": {
      "text/plain": [
       "tensor([[[[ 0.1789, -0.7228, -0.3763,  ...,  0.1157, -1.2088, -0.3106],\n",
       "          [-1.1750,  0.2584,  0.2163,  ...,  0.0163, -0.0694, -2.1495],\n",
       "          [ 0.2772, -0.3456, -0.5202,  ...,  0.1272, -0.8552, -1.3079],\n",
       "          ...,\n",
       "          [ 1.3802, -1.5768,  0.5902,  ..., -0.2501,  2.2619,  0.3283],\n",
       "          [ 0.5914,  0.3638, -0.3269,  ...,  1.2293,  0.9728,  0.0623],\n",
       "          [-0.2350, -0.7573,  0.2037,  ...,  1.0704,  1.9184, -0.1048]]]])"
      ]
     },
     "execution_count": 6,
     "metadata": {},
     "output_type": "execute_result"
    }
   ],
   "source": [
    "input"
   ]
  },
  {
   "cell_type": "markdown",
   "metadata": {},
   "source": [
    "Fijamos a cero los buffers de los gradientes de los parámetros y hacemos backprop con gradientes aleatorios"
   ]
  },
  {
   "cell_type": "code",
   "execution_count": 5,
   "metadata": {},
   "outputs": [],
   "source": [
    "net.zero_grad()\n",
    "out.backward(torch.randn(1, 10))"
   ]
  },
  {
   "attachments": {
    "image.png": {
     "image/png": "[encoded data removed]"
    }
   },
   "cell_type": "markdown",
   "metadata": {},
   "source": [
    "![image.png](attachment:image.png)"
   ]
  },
  {
   "cell_type": "markdown",
   "metadata": {},
   "source": [
    "### Función de pérdida.\n",
    "Ahora necesitamos elegir una función de pérdida que nos diga como se parece nuestra salida a nuestro objetivo. Y esa función va a estimar como de \"lejos\" estamos de nuestro objetivo. PyTorch posee varias funciones de pérdidas como puede ser **nn.MSELoss** que calcula el \"mean-squared error\" entre la salida y el objetivo.\n",
    "\n",
    "Por ejemplo:"
   ]
  },
  {
   "cell_type": "code",
   "execution_count": 7,
   "metadata": {},
   "outputs": [
    {
     "name": "stdout",
     "output_type": "stream",
     "text": [
      "tensor(2.0222, grad_fn=<MseLossBackward>)\n"
     ]
    }
   ],
   "source": [
    "output = net(input)\n",
    "target = torch.randn(10)  # a dummy target, for example\n",
    "target = target.view(1, -1)  # make it the same shape as output\n",
    "criterion = nn.MSELoss()\n",
    "\n",
    "loss = criterion(output, target)\n",
    "print(loss)"
   ]
  },
  {
   "attachments": {
    "image.png": {
     "image/png": "[encoded data removed]"
    }
   },
   "cell_type": "markdown",
   "metadata": {},
   "source": [
    "El gráfico del loss sería\n",
    "![image.png](attachment:image.png)\n",
    "\n",
    "Si ahora llamamos a **loss.backward** el gráfico entero sería diferenciado (computado) a través de los tensores . Podríamos seguir el gráfico"
   ]
  },
  {
   "cell_type": "code",
   "execution_count": 9,
   "metadata": {},
   "outputs": [
    {
     "name": "stdout",
     "output_type": "stream",
     "text": [
      "<MseLossBackward object at 0x000001A0F3DA4BA8>\n",
      "<AddmmBackward object at 0x000001A0F1A5F898>\n",
      "<AccumulateGrad object at 0x000001A0F35FBA58>\n"
     ]
    }
   ],
   "source": [
    "print(loss.grad_fn)  # MSELoss\n",
    "print(loss.grad_fn.next_functions[0][0])  # Linear\n",
    "print(loss.grad_fn.next_functions[0][0].next_functions[0][0])  # ReLU"
   ]
  },
  {
   "cell_type": "markdown",
   "metadata": {},
   "source": [
    "### Backprop\n",
    "Lo último sería propagar el error de la función de pérdida, para saber en que dirección debemos de modificar los pesos de los parámetros "
   ]
  },
  {
   "cell_type": "code",
   "execution_count": 10,
   "metadata": {},
   "outputs": [
    {
     "name": "stdout",
     "output_type": "stream",
     "text": [
      "conv1.bias.grad before backward\n",
      "tensor([0., 0., 0., 0., 0., 0.])\n",
      "conv1.bias.grad after backward\n",
      "tensor([ 0.0267,  0.0019, -0.0289, -0.0002, -0.0158,  0.0069])\n"
     ]
    }
   ],
   "source": [
    "net.zero_grad()     # zeroes the gradient buffers of all parameters\n",
    "\n",
    "print('conv1.bias.grad before backward')\n",
    "print(net.conv1.bias.grad)\n",
    "\n",
    "loss.backward()\n",
    "\n",
    "print('conv1.bias.grad after backward')\n",
    "print(net.conv1.bias.grad)"
   ]
  },
  {
   "attachments": {
    "image.png": {
     "image/png": "[encoded data removed]"
    }
   },
   "cell_type": "markdown",
   "metadata": {},
   "source": [
    "Y para actualizar los pesos, la regla más simple es la siguiente. Que la podemos implementar con simple Python\n",
    "![image.png](attachment:image.png)"
   ]
  },
  {
   "cell_type": "code",
   "execution_count": 11,
   "metadata": {},
   "outputs": [],
   "source": [
    "learning_rate = 0.01\n",
    "for f in net.parameters():\n",
    "    f.data.sub_(f.grad.data * learning_rate)"
   ]
  },
  {
   "cell_type": "markdown",
   "metadata": {},
   "source": [
    "Sin embargo, existen otras muchas formas de actualizar los pesos como SGD, Nesterov-SGD, Adam, RMSProp, etc. Para ello, torch tiene el paquete optim."
   ]
  },
  {
   "cell_type": "code",
   "execution_count": 12,
   "metadata": {},
   "outputs": [],
   "source": [
    "import torch.optim as optim\n",
    "\n",
    "# create your optimizer\n",
    "optimizer = optim.SGD(net.parameters(), lr=0.01)\n",
    "\n",
    "# in your training loop:\n",
    "optimizer.zero_grad()   # zero the gradient buffers\n",
    "output = net(input)\n",
    "loss = criterion(output, target)\n",
    "loss.backward()\n",
    "optimizer.step()    # Does the update"
   ]
  }
 ],
 "metadata": {
  "kernelspec": {
   "display_name": "pytorch",
   "language": "python",
   "name": "pytorch"
  },
  "language_info": {
   "codemirror_mode": {
    "name": "ipython",
    "version": 3
   },
   "file_extension": ".py",
   "mimetype": "text/x-python",
   "name": "python",
   "nbconvert_exporter": "python",
   "pygments_lexer": "ipython3",
   "version": "3.6.8"
  }
 },
 "nbformat": 4,
 "nbformat_minor": 2
}
