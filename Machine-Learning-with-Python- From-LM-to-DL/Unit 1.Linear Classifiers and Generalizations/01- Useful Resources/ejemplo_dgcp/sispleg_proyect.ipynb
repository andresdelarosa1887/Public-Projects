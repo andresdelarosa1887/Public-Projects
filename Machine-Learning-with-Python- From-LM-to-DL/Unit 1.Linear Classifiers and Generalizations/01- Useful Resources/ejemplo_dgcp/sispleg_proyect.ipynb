{
 "cells": [
  {
   "cell_type": "markdown",
   "metadata": {},
   "source": [
    "### Script para obtener indicadores de SISPLEG"
   ]
  },
  {
   "cell_type": "code",
   "execution_count": 5,
   "metadata": {},
   "outputs": [],
   "source": [
    "import pandas as pd\n",
    "import numpy as np\n",
    "import math\n",
    "import unidecode\n",
    "import datetime as dt\n",
    "\n",
    "pd.options.display.float_format = '{:,.2f}'.format\n",
    "\n",
    "today_date = dt.datetime.now()\n",
    "\n",
    "\"\"\" ARCHIVOS NECESITADOS \"\"\"\n",
    "path = 'C:\\\\Users\\\\dcabrera\\\\Documents\\\\DGCP\\\\DATOS'\n",
    "\n",
    "month_string = {1:'marzo', 2:'junio', 3:'septiembre', 4:'diciembre'}\n",
    "\n",
    "if today_date.month < 3: \n",
    "    date_string = (4, today_date.year-1)\n",
    "else:\n",
    "    date_string = (int((today_date.month-1)/3), today_date.year)\n",
    "    \n",
    "file = '\\\\2018\\\\04.consolidado_2017_2018.xlsx'\n",
    "file2 = '\\\\{1}\\\\TR{0}\\\\Adjudicaciones\\\\0{0}.consolidado_{2}_{1}.xlsx'.format(date_string[0], date_string[1], month_string[date_string[0]])\n",
    "file3 = '\\\\{1}\\\\TR{0}\\\\Proveedores\\\\proveedores_{2}_{1}.xlsx'.format(date_string[0], date_string[1], month_string[date_string[0]])\n",
    "\n",
    "CIERRE2018 = pd.read_excel(path + file)\n",
    "CIERRE2019 = pd.read_excel(path + file2, sheet_name = \"Cierre\")\n",
    "PROVEEDORES = pd.read_excel(path + file3)"
   ]
  },
  {
   "cell_type": "code",
   "execution_count": 6,
   "metadata": {},
   "outputs": [],
   "source": [
    "CIERRE2018 = CIERRE2018[['RPE', 'GENERO', 'APROBACION',\n",
    "                         'VALOR_TOTAL', 'PROVINCIA', 'REGION', \n",
    "                         'MACROREGION', 'MODALIDAD', 'CLASIFICACION_EMPRESARIAL',\n",
    "                         'CLASIFICACION_EMPRESARIAL_2']]\n",
    "\n",
    "CIERRE2019 = CIERRE2019[['RPE', 'GENERO', 'APROBACION', \n",
    "                         'VALOR_TOTAL', 'PROVINCIA', 'REGION',\n",
    "                         'MACROREGION', 'MODALIDAD', 'CLASIFICACION_EMPRESARIAL', \n",
    "                         'CLASIFICACION_EMPRESARIAL_2']]\n",
    "\n",
    "PROVEEDORES = PROVEEDORES[['RPE', 'GENERO', 'MES', 'ANO',\n",
    "                           'PROVINCIA', 'REGION', 'MACROREGION',\n",
    "                           'CLASIFICACION_EMPRESARIAL', 'CLASIFICACION_EMPRESARIAL_2']]\n",
    "\n",
    "ADJUDICACIONES = CIERRE2018.append([CIERRE2019])"
   ]
  },
  {
   "cell_type": "code",
   "execution_count": 7,
   "metadata": {},
   "outputs": [],
   "source": [
    "# Creacion de la columna MACROREGION segun los lineamientos de los indicadores del SISPLEG\n",
    "options = {'SUROESTE' : 'SUR', 'NORTE':'NORTE', 'No Especificada': 'No Especificada', 'SURESTE':'ESTE'}\n",
    "PROVEEDORES['MACROREGION_SISPLEG'] = PROVEEDORES.apply(lambda x: 'METROPOLITANA' if x.REGION == 'OZAMA O METROPOLITANA'  \n",
    "                                                       else options.get(x.MACROREGION, 'ERROR'), axis=1)\n",
    "#PROVEEDORES = PROVEEDORES[PROVEEDORES.MACROREGION_SISPLEG != 'No Especificada']\n",
    "\n",
    "ADJUDICACIONES['MACROREGION_SISPLEG'] = ADJUDICACIONES.apply(lambda x: 'METROPOLITANA' if x.REGION == 'OZAMA O METROPOLITANA' \n",
    "                                                             else options.get(x.MACROREGION, 'ERROR'), axis = 1)\n",
    "#ADJUDICACIONES = ADJUDICACIONES[ADJUDICACIONES.MACROREGION_SISPLEG != 'No Especificada']"
   ]
  },
  {
   "cell_type": "code",
   "execution_count": 8,
   "metadata": {},
   "outputs": [],
   "source": [
    "ADJUDICACIONES.loc[:, 'MES'] = ADJUDICACIONES.APROBACION.apply(lambda x: x.month)\n",
    "ADJUDICACIONES.loc[:, 'ANO'] = ADJUDICACIONES.APROBACION.apply(lambda x: x.year)\n",
    "ADJUDICACIONES.loc[:, 'TRIMESTRE'] = ADJUDICACIONES.MES.apply(lambda x: 1 if x in [1,2,3] else\n",
    "                                                       (2 if x in [4,5,6] else\n",
    "                                                        (3 if x in [7,8,9] else\n",
    "                                                         (4 if x in [10,11,12] else 'ERROR'))))\n",
    "\n",
    "PROVEEDORES = PROVEEDORES.rename(columns = {\"Mes\" : \"MES\", \"Año\" : \"ANO\"})\n",
    "PROVEEDORES.loc[:, 'TRIMESTRE'] = PROVEEDORES.MES.apply(lambda x: 1 if x in [1,2,3] else \n",
    "                                                 (2 if x in [4,5,6] else \n",
    "                                                  (3 if x in [7,8,9] else \n",
    "                                                   (4 if x in [10,11,12] else 'ERROR'))))\n",
    "PROVEEDORES = PROVEEDORES[PROVEEDORES.ANO.isin([2017, 2018, 2019])]"
   ]
  },
  {
   "cell_type": "code",
   "execution_count": 9,
   "metadata": {},
   "outputs": [],
   "source": [
    "def DateREF(ano, trim):\n",
    "    return max(ADJUDICACIONES.APROBACION[(ADJUDICACIONES.ANO == ano) & (ADJUDICACIONES.TRIMESTRE == trim)]).date().strftime('%d/%m/%Y')"
   ]
  },
  {
   "cell_type": "code",
   "execution_count": 10,
   "metadata": {},
   "outputs": [],
   "source": [
    "columns_titles = {\"ESTE\" : [\"NUMERO PROVEEDORES REGISTRADOS EN LA REGION ESTE\", \"PORCENTAJE DEL MONTO CONTRATADO EN LA REGION ESTE\", \n",
    "                            \"PORCENTAJE DEL MONTO CONTRATADO A MIPYME CERTIFICADAS EN LA REGION ESTE\", \"NUMERO DE PROVEEDORES ADJUDICADOS EN LA REGION ESTE\"],\n",
    "                  \"METROPOLITANA\" : [\"NUMERO PROVEEDORES REGISTRADOS EN METROPOLITANA\", \"PORCENTAJE DEL MONTO CONTRATADO EN LA REGION METROPOLITANA\", \n",
    "                            \"PORCENTAJE DEL MONTO CONTRATADO A MIPYME CERTIFICADAS EN LA REGION METROPOLITANA\", \"NUMERO DE PROVEEDORES ADJUDICADOS EN LA REGION METROPOLITANA\"],\n",
    "                  \"NORTE\" : [\"NUMERO PROVEEDORES REGISTRADOS EN LA REGION NORTE\", \"PORCENTAJE DEL MONTO CONTRATADO EN LA REGION NORTE\", \n",
    "                            \"PORCENTAJE DEL MONTO CONTRATADO A MIPYME CERTIFICADAS EN LA REGION NORTE\", \"NUMERO DE PROVEEDORES ADJUDICADOS EN LA REGION NORTE\"],\n",
    "                  \"SUR\" : [\"NUMERO PROVEEDORES REGISTRADOS EN LA REGION SUR\", \"PORCENTAJE DEL MONTO CONTRATADO EN LA REGION SUR\", \n",
    "                            \"PORCENTAJE DEL MONTO CONTRATADO A MIPYME CERTIFICADAS EN LA REGION SUR\", \"NUMERO DE PROVEEDORES ADJUDICADOS EN LA REGION SUR\"]}"
   ]
  },
  {
   "cell_type": "code",
   "execution_count": 11,
   "metadata": {},
   "outputs": [],
   "source": [
    "DF = list()\n",
    "\n",
    "for year in PROVEEDORES.ANO.drop_duplicates().values:\n",
    "    for quarter in PROVEEDORES[PROVEEDORES.ANO == year].TRIMESTRE.drop_duplicates().values:\n",
    "        PROVEEDORES_REGISTRADOS = pd.pivot_table(PROVEEDORES[(PROVEEDORES.ANO == year) & (PROVEEDORES.TRIMESTRE == quarter)], \n",
    "                                                 values = 'RPE', index = ['MACROREGION_SISPLEG'], aggfunc = 'count').rename(columns = {\"RPE\": DateREF(year, quarter)})\n",
    "        \n",
    "        PROVEEDORES_REGISTRADOS = PROVEEDORES_REGISTRADOS.T.rename(columns = {\"ESTE\" : columns_titles[\"ESTE\"][0],\n",
    "                                                                             \"METROPOLITANA\" : columns_titles[\"METROPOLITANA\"][0],\n",
    "                                                                             \"NORTE\" : columns_titles[\"NORTE\"][0],\n",
    "                                                                             \"SUR\" : columns_titles[\"SUR\"][0]})\n",
    "        PROVEEDORES_REGISTRADOS.drop(['No Especificada'], axis=1, inplace=True)\n",
    "        \n",
    "        PROVEEDORES_ADJUDICADOS = ADJUDICACIONES[(ADJUDICACIONES.ANO == year) & (ADJUDICACIONES.TRIMESTRE == quarter)].drop_duplicates(subset = 'RPE', keep = 'first')\\\n",
    "                                    .pivot_table(values = 'RPE', index = 'MACROREGION_SISPLEG', aggfunc='count').rename(columns = {\"RPE\": DateREF(year, quarter)})\n",
    "\n",
    "        PROVEEDORES_ADJUDICADOS = PROVEEDORES_ADJUDICADOS.T.rename(columns = {\"ESTE\" : columns_titles[\"ESTE\"][3],\n",
    "                                                                             \"METROPOLITANA\" : columns_titles[\"METROPOLITANA\"][3],\n",
    "                                                                             \"NORTE\" : columns_titles[\"NORTE\"][3],\n",
    "                                                                             \"SUR\" : columns_titles[\"SUR\"][3]})\n",
    "        PROVEEDORES_ADJUDICADOS.drop(['No Especificada'], axis=1, inplace=True)\n",
    "        \n",
    "        MONTO_TOTAL = ADJUDICACIONES[(ADJUDICACIONES.ANO == year) & (ADJUDICACIONES.TRIMESTRE == quarter)].VALOR_TOTAL.sum()\n",
    "        MONTO_CONTRATADO = ADJUDICACIONES[(ADJUDICACIONES.ANO == year) & (ADJUDICACIONES.TRIMESTRE == quarter)].pivot_table(values = 'VALOR_TOTAL',\n",
    "                                                                                                         index=['MACROREGION_SISPLEG'], \n",
    "                                                                                                         aggfunc =  lambda x : (x.sum()/MONTO_TOTAL))\\\n",
    "                                                                                                        .rename(columns = {\"VALOR_TOTAL\": DateREF(year, quarter)})\n",
    "        \n",
    "        MONTO_CONTRATADO = MONTO_CONTRATADO.T.rename(columns = {\"ESTE\" : columns_titles[\"ESTE\"][1],\n",
    "                                                                \"METROPOLITANA\" : columns_titles[\"METROPOLITANA\"][1],\n",
    "                                                                \"NORTE\" : columns_titles[\"NORTE\"][1],\n",
    "                                                                \"SUR\" : columns_titles[\"SUR\"][1]})\n",
    "        \n",
    "        MONTO_CONTRATADO.drop(['No Especificada'], axis=1, inplace=True)\n",
    "        MONTO_CONTRATADO['MONTO TOTAL CONTRATADO'] = ADJUDICACIONES[(ADJUDICACIONES.ANO == year) & (ADJUDICACIONES.TRIMESTRE == quarter)].groupby(['ANO'])['VALOR_TOTAL'].sum().values[0]\n",
    "        \n",
    "        MONTO_MIPYMES = ADJUDICACIONES[(ADJUDICACIONES.CLASIFICACION_EMPRESARIAL_2 == 'MIPYMES Certificadas por el MIC') & ((ADJUDICACIONES.ANO == year) & (ADJUDICACIONES.TRIMESTRE == quarter))]\\\n",
    "                        .pivot_table(values = 'VALOR_TOTAL', index=['MACROREGION_SISPLEG'], \n",
    "                                     aggfunc = lambda x : (x.sum()/MONTO_TOTAL)).rename(columns = {\"VALOR_TOTAL\": DateREF(year, quarter)})\n",
    "\n",
    "        \n",
    "        MONTO_MIPYMES = MONTO_MIPYMES.T.rename(columns = {\"ESTE\" : columns_titles[\"ESTE\"][2],\n",
    "                                                          \"METROPOLITANA\" : columns_titles[\"METROPOLITANA\"][2],\n",
    "                                                          \"NORTE\" : columns_titles[\"NORTE\"][2],\n",
    "                                                          \"SUR\" : columns_titles[\"SUR\"][2]})\n",
    "        if 'No Especificada' in MONTO_MIPYMES.columns:\n",
    "            MONTO_MIPYMES.drop(['No Especificada'], axis=1, inplace=True)\n",
    "        \n",
    "        PROVEEDORES_REGISTRADOS[\"NUMERO DE PROVEEDORES REGISTRADOS QUE CORRESPONDEN A MIPYMES\"] = pd.pivot_table(PROVEEDORES[(PROVEEDORES.ANO == year) & (PROVEEDORES.TRIMESTRE == quarter)], \n",
    "                                                                                                                   values = 'RPE', index = ['CLASIFICACION_EMPRESARIAL_2'], \n",
    "                                                                                                                   aggfunc = 'count').loc['MIPYMES Certificadas por el MIC'].values[0]\n",
    "        \n",
    "        PROVEEDORES_REGISTRADOS[\"NUMERO DE PROVEEDORES REGISTRADOS TOTAL\"] = PROVEEDORES[(PROVEEDORES.ANO == year) & (PROVEEDORES.TRIMESTRE == quarter)].groupby(['TRIMESTRE'])['RPE'].count().values[0]\n",
    "\n",
    "        DF.append(pd.concat([PROVEEDORES_REGISTRADOS, PROVEEDORES_ADJUDICADOS, MONTO_CONTRATADO, MONTO_MIPYMES], axis = 1, sort=False))\n",
    "\n",
    "INDICADORES_SISPLEG = pd.concat(DF, sort=False)"
   ]
  },
  {
   "cell_type": "code",
   "execution_count": 13,
   "metadata": {},
   "outputs": [],
   "source": [
    "INDICADORES_SISPLEG_2 = INDICADORES_SISPLEG.unstack().reset_index().rename(columns = {'MACROREGION_SISPLEG': 'INDICADORES_SISPLEG', 'level_1':'Fecha', 0:'ind'})"
   ]
  },
  {
   "cell_type": "code",
   "execution_count": 17,
   "metadata": {},
   "outputs": [],
   "source": [
    "writer = pd.ExcelWriter('indicadores_sispleg.xlsx')\n",
    "INDICADORES_SISPLEG.reset_index().to_excel(writer, index = False, sheet_name='Indicadores')\n",
    "INDICADORES_SISPLEG_2.reset_index().to_excel(writer, index = False, sheet_name='Page2')\n",
    "writer.save()"
   ]
  }
 ],
 "metadata": {
  "kernelspec": {
   "display_name": "Python 3",
   "language": "python",
   "name": "python3"
  },
  "language_info": {
   "codemirror_mode": {
    "name": "ipython",
    "version": 3
   },
   "file_extension": ".py",
   "mimetype": "text/x-python",
   "name": "python",
   "nbconvert_exporter": "python",
   "pygments_lexer": "ipython3",
   "version": "3.7.4"
  }
 },
 "nbformat": 4,
 "nbformat_minor": 4
}
