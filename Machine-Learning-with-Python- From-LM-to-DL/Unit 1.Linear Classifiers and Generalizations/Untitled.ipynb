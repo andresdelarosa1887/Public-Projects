{
 "cells": [
  {
   "cell_type": "code",
   "execution_count": null,
   "metadata": {},
   "outputs": [],
   "source": [
    "import numpy as np\n",
    "\n",
    "#Exercise 2\n",
    "#The way in which you put the data inside the algo is very important\n",
    "# This matrix has one variable and 3 observations\n",
    "classification_vector= np.array([1,\n",
    "                                 -1,\n",
    "                                 1])\n",
    "# This matrix has two variables and 3 observations\n",
    "data_vector= np.array([\n",
    "    [-1,-1],\n",
    "    [1,0],\n",
    "    [-1,10]\n",
    "])\n",
    "#Initialize our theta vector according to the size of the data vector\n",
    "theta = np.zeros(len(data_vector[0])) \n",
    "##Count the number of errors\n",
    "errors = []\n",
    "##Loop it 10 times\n",
    "epochs = 10\n",
    "##Loop de Perceptron algorithm to update the weights\n",
    "for epoch in range(0,epochs): #training part, gradient descent part\n",
    "    for i, x in enumerate(data_vector):\n",
    "        if (classification_vector[i]*(np.dot(data_vector[i], theta))) < 1:\n",
    "            theta= theta + np.dot(classification_vector[i], data_vector[i])\n",
    "            error= 1\n",
    "        else:\n",
    "            theta= theta\n",
    "            error=0\n",
    "        errors.append(error)\n",
    "    print(theta)\n",
    "print(errors)"
   ]
  }
 ],
 "metadata": {
  "kernelspec": {
   "display_name": "Python 3",
   "language": "python",
   "name": "python3"
  },
  "language_info": {
   "codemirror_mode": {
    "name": "ipython",
    "version": 3
   },
   "file_extension": ".py",
   "mimetype": "text/x-python",
   "name": "python",
   "nbconvert_exporter": "python",
   "pygments_lexer": "ipython3",
   "version": "3.7.1"
  }
 },
 "nbformat": 4,
 "nbformat_minor": 4
}
