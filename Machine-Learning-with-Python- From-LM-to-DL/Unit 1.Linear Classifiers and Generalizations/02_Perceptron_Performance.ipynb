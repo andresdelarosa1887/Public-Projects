{
 "cells": [
  {
   "cell_type": "code",
   "execution_count": 2,
   "metadata": {},
   "outputs": [],
   "source": [
    "import numpy as np"
   ]
  },
  {
   "cell_type": "code",
   "execution_count": 79,
   "metadata": {},
   "outputs": [
    {
     "name": "stdout",
     "output_type": "stream",
     "text": [
      "[-4  2] 1 [-4.  2.] 1\n",
      "[-1 -1] -1 [-3.  3.] 0\n",
      "[2 2] -1 [-5.  1.] -1\n",
      "[-1 -1] -1 [-4.  2.] -2\n",
      "[-1 -1] -1 [-3.  3.] -3\n",
      "[1, 0, 1, 1, 0, 0, 0, 1, 0, 0, 0, 0, 1, 0, 0, 0, 0, 0, 0, 0, 0, 0, 0, 0, 0, 0, 0, 0, 0, 0, 0, 0, 0, 0, 0, 0, 0, 0, 0, 0, 0, 0, 0, 0, 0, 0, 0, 0, 0, 0, 0, 0, 0, 0, 0, 0, 0, 0, 0, 0, 0, 0, 0, 0, 0, 0, 0, 0, 0, 0, 0, 0, 0, 0, 0, 0, 0, 0, 0, 0, 0, 0, 0, 0, 0, 0, 0, 0, 0, 0, 0, 0, 0, 0, 0, 0, 0, 0, 0, 0, 0, 0, 0, 0, 0, 0, 0, 0, 0, 0, 0, 0, 0, 0, 0, 0, 0, 0, 0, 0, 0, 0, 0, 0, 0, 0, 0, 0, 0, 0, 0, 0, 0, 0, 0, 0, 0, 0, 0, 0, 0, 0, 0, 0, 0, 0, 0, 0, 0, 0, 0, 0, 0, 0, 0, 0, 0, 0, 0, 0, 0, 0, 0, 0, 0, 0, 0, 0, 0, 0, 0, 0, 0, 0, 0, 0, 0, 0, 0, 0, 0, 0, 0, 0, 0, 0, 0, 0, 0, 0, 0, 0, 0, 0, 0, 0, 0, 0, 0, 0, 0, 0, 0, 0, 0, 0, 0, 0, 0, 0, 0, 0, 0, 0, 0, 0, 0, 0, 0, 0, 0, 0, 0, 0, 0, 0, 0, 0, 0, 0, 0, 0, 0, 0, 0, 0, 0, 0, 0, 0, 0, 0, 0, 0, 0, 0, 0, 0, 0, 0, 0, 0, 0, 0, 0, 0, 0, 0, 0, 0, 0, 0, 0, 0, 0, 0, 0, 0, 0, 0, 0, 0, 0, 0, 0, 0, 0, 0, 0, 0, 0, 0, 0, 0, 0, 0, 0, 0, 0, 0, 0, 0, 0, 0, 0, 0, 0, 0, 0, 0, 0, 0, 0, 0, 0, 0, 0, 0, 0, 0, 0, 0, 0, 0, 0, 0, 0, 0, 0, 0, 0, 0, 0, 0, 0, 0, 0, 0, 0, 0, 0, 0, 0, 0, 0, 0, 0, 0, 0, 0, 0, 0, 0, 0, 0, 0, 0, 0, 0, 0, 0, 0, 0, 0, 0, 0, 0, 0, 0, 0, 0, 0, 0, 0, 0, 0, 0, 0, 0, 0, 0, 0, 0, 0, 0, 0, 0, 0, 0, 0, 0, 0, 0, 0, 0, 0, 0, 0, 0, 0, 0, 0, 0, 0, 0, 0, 0, 0, 0, 0, 0, 0, 0, 0, 0, 0, 0, 0, 0, 0, 0, 0, 0, 0, 0, 0, 0, 0, 0, 0, 0, 0, 0, 0, 0, 0, 0, 0, 0, 0, 0, 0, 0, 0, 0, 0, 0, 0, 0, 0, 0, 0, 0, 0, 0, 0, 0, 0, 0, 0, 0, 0, 0, 0, 0, 0, 0, 0, 0, 0, 0, 0, 0, 0, 0, 0, 0, 0, 0, 0, 0, 0, 0, 0, 0, 0, 0, 0, 0, 0, 0, 0, 0, 0, 0, 0, 0, 0, 0, 0, 0, 0, 0, 0, 0]\n"
     ]
    }
   ],
   "source": [
    "## This now uses the algorithm that initializes on \n",
    "#The way in which you put the data inside the algo is very important\n",
    "# This matrix has one variable and 5 observations\n",
    "classification_vector= np.array([1,\n",
    "                                 1,\n",
    "                                -1,\n",
    "                                -1, \n",
    "                                -1])\n",
    "# This matrix has two variables and 5 observations\n",
    "data_vector= np.array([\n",
    "    [-4,2],\n",
    "    [-2,1],\n",
    "    [-1,-1], \n",
    "    [2,2], \n",
    "    [1,-2]\n",
    "])\n",
    "#Initialize our theta_0 and theta vector according to the size of the data vector\n",
    "theta_0  = 0\n",
    "theta= np.zeros(len(data_vector[0])) \n",
    "\n",
    "##Count the number of errors\n",
    "errors = []\n",
    "##Loop it 10 times\n",
    "epochs = 100\n",
    "##Loop de Perceptron algorithm to update the weights\n",
    "for epoch in range(1,epochs): #training part, gradient descent part\n",
    "    for i, x in enumerate(data_vector):\n",
    "        if (classification_vector[i]*(np.dot(data_vector[i], theta) + theta_0)) < 1:\n",
    "            theta= theta + np.dot(classification_vector[i], data_vector[i])\n",
    "            theta_0= (theta_0 + classification_vector[i])\n",
    "            error= 1\n",
    "            print(data_vector[i], classification_vector[i], theta, theta_0)\n",
    "        else:\n",
    "            theta_0= theta_0\n",
    "            theta= theta\n",
    "            error=0\n",
    "        errors.append(error)\n",
    "print(errors)"
   ]
  },
  {
   "cell_type": "code",
   "execution_count": 77,
   "metadata": {},
   "outputs": [
    {
     "name": "stdout",
     "output_type": "stream",
     "text": [
      "[-4  2] 1 [-4  2] 1\n",
      "[-1 -1] -1 [-3  3] 0\n",
      "[2 2] -1 [-5  1] -1\n",
      "[-1 -1] -1 [-4  2] -2\n",
      "[-1 -1] -1 [-3  3] -3\n",
      "[1, 0, 1, 1, 0, 0, 0, 1, 0, 0, 0, 0, 1, 0, 0, 0, 0, 0, 0, 0, 0, 0, 0, 0, 0, 0, 0, 0, 0, 0, 0, 0, 0, 0, 0, 0, 0, 0, 0, 0, 0, 0, 0, 0, 0, 0, 0, 0, 0, 0, 0, 0, 0, 0, 0, 0, 0, 0, 0, 0, 0, 0, 0, 0, 0, 0, 0, 0, 0, 0, 0, 0, 0, 0, 0, 0, 0, 0, 0, 0, 0, 0, 0, 0, 0, 0, 0, 0, 0, 0, 0, 0, 0, 0, 0, 0, 0, 0, 0, 0]\n"
     ]
    }
   ],
   "source": [
    "## This now uses the algorithm that initializes on \n",
    "#The way in which you put the data inside the algo is very important\n",
    "# This matrix has one variable and 5 observations\n",
    "classification_vector= np.array([1,\n",
    "                                 1,\n",
    "                                -1,\n",
    "                                -1, \n",
    "                                -1])\n",
    "# This matrix has two variables and 5 observations\n",
    "data_vector= np.array([\n",
    "    [-4,2],\n",
    "    [-2,1],\n",
    "    [-1,-1], \n",
    "    [2,2], \n",
    "    [1,-2]\n",
    "])\n",
    "#Initialize our theta_0 and theta vector according to the size of the data vector\n",
    "theta_0  = 0 # since we have an offset it needs to be a scalar np.zeros(len(data_vector[0])) \n",
    "theta= np.array([0,0])  # or np.zeros(len(data_vector[0])) \n",
    "\n",
    "##Count the number of errors\n",
    "errors = []\n",
    "##Loop it 10 times\n",
    "epochs = 20\n",
    "##Loop de Perceptron algorithm to update the weights\n",
    "for epoch in range(0,epochs): #training part, gradient descent part\n",
    "    for i, x in enumerate(data_vector):\n",
    "        if (classification_vector[i]*(np.dot(data_vector[i], theta) + theta_0)) < 1:\n",
    "            theta= theta + np.dot(classification_vector[i], data_vector[i])\n",
    "            theta_0= (theta_0 + classification_vector[i])\n",
    "            error= 1\n",
    "            print(data_vector[i], classification_vector[i], theta, theta_0)\n",
    "        else:\n",
    "            theta_0= theta_0\n",
    "            theta= theta\n",
    "            error=0\n",
    "        errors.append(error)\n",
    "print(errors)"
   ]
  },
  {
   "cell_type": "code",
   "execution_count": 78,
   "metadata": {},
   "outputs": [
    {
     "data": {
      "text/plain": [
       "(array([-3,  3]), -3)"
      ]
     },
     "execution_count": 78,
     "metadata": {},
     "output_type": "execute_result"
    }
   ],
   "source": [
    "theta, theta_0"
   ]
  }
 ],
 "metadata": {
  "kernelspec": {
   "display_name": "Python 3",
   "language": "python",
   "name": "python3"
  },
  "language_info": {
   "codemirror_mode": {
    "name": "ipython",
    "version": 3
   },
   "file_extension": ".py",
   "mimetype": "text/x-python",
   "name": "python",
   "nbconvert_exporter": "python",
   "pygments_lexer": "ipython3",
   "version": "3.7.1"
  }
 },
 "nbformat": 4,
 "nbformat_minor": 4
}
