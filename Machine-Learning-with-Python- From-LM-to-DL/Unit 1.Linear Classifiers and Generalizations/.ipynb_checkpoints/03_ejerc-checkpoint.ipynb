{
 "cells": [
  {
   "cell_type": "markdown",
   "metadata": {},
   "source": [
    "Strictly above (positive) or below (negative) a line with normal θ and offset θ0. Here we define \"above\" as θ⋅x+θ0>0, and define \"below\" similarly. Note: If there is no solution, enter θ=[0,0] and θ0=0."
   ]
  },
  {
   "cell_type": "code",
   "execution_count": 17,
   "metadata": {},
   "outputs": [
    {
     "data": {
      "image/png": "[encoded data removed]",
      "text/plain": [
       "<Figure size 432x288 with 1 Axes>"
      ]
     },
     "metadata": {
      "needs_background": "light"
     },
     "output_type": "display_data"
    }
   ],
   "source": [
    "#Plotting the DAta Points\n",
    "#To help us perform math operations\n",
    "import numpy as np\n",
    "#to plot our data and model visually\n",
    "from matplotlib import pyplot as plt\n",
    "%matplotlib inline\n",
    "#Step 1 - Define our data\n",
    "#Input data - Of the form [X value, Y value, Bias term]\n",
    "X = np.array([\n",
    "    [-1,1],\n",
    "    [1,-1],\n",
    "    [1,1], \n",
    "    [2,2]\n",
    "])\n",
    "\n",
    "#Associated output labels - First 2 examples are labeled '-1' and last 3 are labeled '+1'\n",
    "y =  np.array([1,\n",
    "                                 1,\n",
    "                                -1,\n",
    "                                -1])\n",
    "#lets plot these examples on a 2D graph!\n",
    "#for each example\n",
    "for d, sample in enumerate(X):\n",
    "    if d < 2:\n",
    "        plt.scatter(sample[0], sample[1], s=120, marker='+', linewidths=2)\n",
    "    else:\n",
    "        plt.scatter(sample[0], sample[1], s=120, marker='_', linewidths=2)\n",
    "# Print a possible hyperplane, that is seperating the two classes.\n",
    "#we'll two points and draw the line between them (naive guess)\n",
    "#plt.plot([-2,6],[6,0.5])"
   ]
  },
  {
   "cell_type": "code",
   "execution_count": 14,
   "metadata": {},
   "outputs": [
    {
     "name": "stdout",
     "output_type": "stream",
     "text": [
      "[-1  1] 1 [-1.  1.] 1\n",
      "[ 1 -1] 1 [0. 0.] 2\n",
      "[1 1] -1 [-1. -1.] 1\n",
      "[1, 1, 1, 0, 0, 0, 0, 0, 0, 0, 0, 0, 0, 0, 0, 0, 0, 0, 0, 0, 0, 0, 0, 0, 0, 0, 0, 0, 0, 0, 0, 0, 0, 0, 0, 0, 0, 0, 0, 0, 0, 0, 0, 0, 0, 0, 0, 0, 0, 0, 0, 0, 0, 0, 0, 0, 0, 0, 0, 0, 0, 0, 0, 0, 0, 0, 0, 0, 0, 0, 0, 0, 0, 0, 0, 0, 0, 0, 0, 0, 0, 0, 0, 0, 0, 0, 0, 0, 0, 0, 0, 0, 0, 0, 0, 0, 0, 0, 0, 0, 0, 0, 0, 0, 0, 0, 0, 0, 0, 0, 0, 0, 0, 0, 0, 0, 0, 0, 0, 0, 0, 0, 0, 0, 0, 0, 0, 0, 0, 0, 0, 0, 0, 0, 0, 0, 0, 0, 0, 0, 0, 0, 0, 0, 0, 0, 0, 0, 0, 0, 0, 0, 0, 0, 0, 0, 0, 0, 0, 0, 0, 0, 0, 0, 0, 0, 0, 0, 0, 0, 0, 0, 0, 0, 0, 0, 0, 0, 0, 0, 0, 0, 0, 0, 0, 0, 0, 0, 0, 0, 0, 0, 0, 0, 0, 0, 0, 0, 0, 0, 0, 0, 0, 0, 0, 0, 0, 0, 0, 0, 0, 0, 0, 0, 0, 0, 0, 0, 0, 0, 0, 0, 0, 0, 0, 0, 0, 0, 0, 0, 0, 0, 0, 0, 0, 0, 0, 0, 0, 0, 0, 0, 0, 0, 0, 0, 0, 0, 0, 0, 0, 0, 0, 0, 0, 0, 0, 0, 0, 0, 0, 0, 0, 0, 0, 0, 0, 0, 0, 0, 0, 0, 0, 0, 0, 0, 0, 0, 0, 0, 0, 0, 0, 0, 0, 0, 0, 0, 0, 0, 0, 0, 0, 0, 0, 0, 0, 0, 0, 0, 0, 0, 0, 0, 0, 0, 0, 0, 0, 0, 0, 0, 0, 0, 0, 0, 0, 0, 0, 0, 0, 0, 0, 0, 0, 0, 0, 0, 0, 0, 0, 0, 0, 0, 0, 0, 0, 0, 0, 0, 0, 0, 0, 0, 0, 0, 0, 0, 0, 0, 0, 0, 0, 0, 0, 0, 0, 0, 0, 0, 0, 0, 0, 0, 0, 0, 0, 0, 0, 0, 0, 0, 0, 0, 0, 0, 0, 0, 0, 0, 0, 0, 0, 0, 0, 0, 0, 0, 0, 0, 0, 0, 0, 0, 0, 0]\n"
     ]
    }
   ],
   "source": [
    "import  numpy as np \n",
    "## This now uses the algorithm that initializes on \n",
    "#The way in which you put the data inside the algo is very important\n",
    "# This matrix has one variable and 5 observations\n",
    "classification_vector= np.array([1,\n",
    "                                 1,\n",
    "                                -1,\n",
    "                                -1])\n",
    "# This matrix has two variables and 5 observations\n",
    "data_vector= np.array([\n",
    "    [-1,1],\n",
    "    [1,-1],\n",
    "    [1,1], \n",
    "    [2,2]\n",
    "])\n",
    "#Initialize our theta_0 and theta vector according to the size of the data vector\n",
    "theta_0  = 0\n",
    "theta= np.zeros(len(data_vector[0])) \n",
    "##Count the number of errors\n",
    "errors = []\n",
    "##Loop it 10 times\n",
    "epochs = 100\n",
    "##Loop de Perceptron algorithm to update the weights\n",
    "for epoch in range(1,epochs): #training part, gradient descent part\n",
    "    for i, x in enumerate(data_vector):\n",
    "        if (classification_vector[i]*(np.dot(data_vector[i], theta) + theta_0)) <= 0:\n",
    "            theta= theta + np.dot(classification_vector[i], data_vector[i])\n",
    "            theta_0= (theta_0 + classification_vector[i])\n",
    "            error= 1\n",
    "            print(data_vector[i], classification_vector[i], theta, theta_0)\n",
    "        else:\n",
    "            theta_0= theta_0\n",
    "            theta= theta\n",
    "            error=0\n",
    "        errors.append(error)\n",
    "print(errors)"
   ]
  }
 ],
 "metadata": {
  "kernelspec": {
   "display_name": "Python 3",
   "language": "python",
   "name": "python3"
  },
  "language_info": {
   "codemirror_mode": {
    "name": "ipython",
    "version": 3
   },
   "file_extension": ".py",
   "mimetype": "text/x-python",
   "name": "python",
   "nbconvert_exporter": "python",
   "pygments_lexer": "ipython3",
   "version": "3.7.1"
  }
 },
 "nbformat": 4,
 "nbformat_minor": 2
}
