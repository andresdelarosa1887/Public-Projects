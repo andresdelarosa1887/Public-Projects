{
 "cells": [
  {
   "cell_type": "markdown",
   "metadata": {},
   "source": [
    "# Hinge Loss\n",
    "In this project you will be implementing linear classifiers beginning with the Perceptron algorithm. You will begin by writing your loss function, a hinge-loss function. For this function you are given the parameters of your model  θ and θ0\n",
    "\n",
    "Additionally, you are given a feature matrix in which the rows are feature vectors and the columns are individual features, and a vector of labels representing the actual sentiment of the corresponding feature vector."
   ]
  },
  {
   "cell_type": "markdown",
   "metadata": {},
   "source": [
    "1. First, implement the basic hinge loss calculation on a single data-point. Instead of the entire feature matrix, you are given one row, representing the feature vector of a single data sample, and its label of +1 or -1 representing the ground truth sentiment of the data sample\n",
    "\n",
    "def hinge_loss_single(feature_vector, label, theta, theta_0):\n",
    "\n",
    "        feature_vector - A numpy array describing the given data point.\n",
    "        label - A real valued number, the correct classification of the data\n",
    "            point.\n",
    "        theta - A numpy array describing the linear classifier.\n",
    "        theta_0 - A real valued number representing the offset parameter.\n",
    "Returns: A real number representing the hinge loss associated with the\n",
    "    given data point and parameters."
   ]
  },
  {
   "cell_type": "code",
   "execution_count": 212,
   "metadata": {},
   "outputs": [],
   "source": [
    "import numpy as np\n",
    "feature_vector= np.array([1, 2])\n",
    "label= 1\n",
    "theta= np.array([-1, 1])\n",
    "theta_0= -0.2"
   ]
  },
  {
   "cell_type": "code",
   "execution_count": 204,
   "metadata": {},
   "outputs": [],
   "source": [
    "def hinge_loss_single(feature_vector, label, theta, theta_0):\n",
    "    if (label* np.dot(feature_vector, theta) + theta_0) >=1:\n",
    "        loss= 0\n",
    "    else: \n",
    "        loss= 1 - (label* (np.dot(theta, feature_vector) + theta_0))\n",
    "    return loss"
   ]
  },
  {
   "cell_type": "markdown",
   "metadata": {},
   "source": [
    "# The Complete Hinge Loss\n",
    "Now it's time to implement the complete hinge loss for a full set of data. Your input will be a full feature matrix this time, and you will have a vector of corresponding labels. The kth row of the feature matrix corresponds to the kth element of the labels vector. This function should return the appropriate loss of the classifier on the given dataset."
   ]
  },
  {
   "cell_type": "code",
   "execution_count": 198,
   "metadata": {},
   "outputs": [],
   "source": [
    "def hinge_loss_full(feature_matrix, labels, theta, theta_0):\n",
    "    total_loss=[]\n",
    "    for i, x in enumerate(feature_matrix):\n",
    "        if (labels[i]*(np.dot(theta, feature_matrix[i]) + theta_0)) >= 1:\n",
    "            loss= 0\n",
    "        else: \n",
    "            loss= 1 - (labels[i]*(np.dot(theta, feature_matrix[i])+ theta_0))\n",
    "        total_loss.append(loss)\n",
    "    return sum(total_loss)/len(feature_matrix)"
   ]
  },
  {
   "cell_type": "code",
   "execution_count": 199,
   "metadata": {},
   "outputs": [
    {
     "data": {
      "text/plain": [
       "1.7000000000000002"
      ]
     },
     "execution_count": 199,
     "metadata": {},
     "output_type": "execute_result"
    }
   ],
   "source": [
    "feature_matrix = np.array([[1, 2], [1, -1]])\n",
    "label, theta, theta_0 = np.array([1, 1]), np.array([-1, 1]), -0.2\n",
    "hinge_loss_full(feature_matrix, label, theta, theta_0)"
   ]
  }
 ],
 "metadata": {
  "kernelspec": {
   "display_name": "Python 3",
   "language": "python",
   "name": "python3"
  },
  "language_info": {
   "codemirror_mode": {
    "name": "ipython",
    "version": 3
   },
   "file_extension": ".py",
   "mimetype": "text/x-python",
   "name": "python",
   "nbconvert_exporter": "python",
   "pygments_lexer": "ipython3",
   "version": "3.7.1"
  }
 },
 "nbformat": 4,
 "nbformat_minor": 4
}
