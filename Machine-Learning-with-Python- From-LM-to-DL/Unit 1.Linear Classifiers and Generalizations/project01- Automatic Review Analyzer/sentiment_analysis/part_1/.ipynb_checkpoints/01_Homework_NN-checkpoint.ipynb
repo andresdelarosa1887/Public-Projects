{
 "cells": [
  {
   "cell_type": "code",
   "execution_count": 1,
   "metadata": {},
   "outputs": [],
   "source": [
    "import numpy as np"
   ]
  },
  {
   "cell_type": "code",
   "execution_count": 14,
   "metadata": {},
   "outputs": [
    {
     "name": "stdout",
     "output_type": "stream",
     "text": [
      "[-1. -1.]\n",
      "[-1. -1.]\n",
      "[-2.   0.5]\n"
     ]
    }
   ],
   "source": [
    "#Exercise 1\n",
    "#The way in which you put the data inside the algo is very important\n",
    "# This matrix has one variable and 3 observations\n",
    "classification_vector= np.array([1, -1, 1])\n",
    "# This matrix has two variables and 3 observations\n",
    "data_vector= np.array([\n",
    "    [-1,-1],\n",
    "    [1,0],\n",
    "    [-1,1.5]\n",
    "])\n",
    "#Initialize our theta vector according to the size of the data vector\n",
    "theta = np.zeros(len(data_vector[0])) \n",
    "\n",
    "##Loop de Perceptron algorithm to update the weights\n",
    "for i, x in enumerate(data_vector):\n",
    "    if (classification_vector[i]*(np.dot(data_vector[i], theta))) < 1:\n",
    "        theta= theta + np.dot(classification_vector[i], data_vector[i])\n",
    "    else:\n",
    "        theta= theta\n",
    "    print(theta)"
   ]
  },
  {
   "cell_type": "code",
   "execution_count": 14,
   "metadata": {},
   "outputs": [
    {
     "name": "stdout",
     "output_type": "stream",
     "text": [
      "[-2.  9.]\n",
      "[-3.  8.]\n",
      "[-4.  7.]\n",
      "[-5.  6.]\n",
      "[-6.  5.]\n",
      "[-6.  5.]\n",
      "[-6.  5.]\n",
      "[-6.  5.]\n",
      "[-6.  5.]\n",
      "[-6.  5.]\n",
      "[1, 0, 1, 1, 0, 0, 1, 0, 0, 1, 0, 0, 1, 0, 0, 0, 0, 0, 0, 0, 0, 0, 0, 0, 0, 0, 0, 0, 0, 0]\n",
      "[-1 -1]\n",
      "[1 0]\n",
      "[-1 10]\n"
     ]
    }
   ],
   "source": [
    "#Exercise 2\n",
    "#The way in which you put the data inside the algo is very important\n",
    "# This matrix has one variable and 3 observations\n",
    "classification_vector= np.array([1,\n",
    "                                 -1,\n",
    "                                 1])\n",
    "# This matrix has two variables and 3 observations\n",
    "data_vector= np.array([\n",
    "    [-1,-1],\n",
    "    [1,0],\n",
    "    [-1,10]\n",
    "])\n",
    "#Initialize our theta vector according to the size of the data vector\n",
    "theta = np.zeros(len(data_vector[0])) \n",
    "##Count the number of errors\n",
    "errors = []\n",
    "##Loop it 10 times\n",
    "epochs = 10\n",
    "##Loop de Perceptron algorithm to update the weights\n",
    "for epoch in range(0,epochs): #training part, gradient descent part\n",
    "    for i, x in enumerate(data_vector):\n",
    "        if (classification_vector[i]*(np.dot(data_vector[i], theta))) < 1:\n",
    "            theta= theta + np.dot(classification_vector[i], data_vector[i])\n",
    "            error= 1\n",
    "        else:\n",
    "            theta= theta\n",
    "            error=0\n",
    "        errors.append(error)\n",
    "    print(theta)\n",
    "print(errors)"
   ]
  },
  {
   "cell_type": "code",
   "execution_count": 15,
   "metadata": {},
   "outputs": [
    {
     "name": "stdout",
     "output_type": "stream",
     "text": [
      "[ 0. -1.]\n",
      "[ 0. -2.]\n",
      "[ 1. -2.]\n",
      "[ 1. -2.]\n",
      "[ 1. -2.]\n",
      "[ 1. -2.]\n",
      "[ 1. -2.]\n",
      "[ 1. -2.]\n",
      "[ 1. -2.]\n",
      "[ 1. -2.]\n",
      "[1, 0, 1, 1, 0, 1, 1, 0, 0, 0, 0, 0, 0, 0, 0, 0, 0, 0, 0, 0, 0, 0, 0, 0, 0, 0, 0, 0, 0, 0]\n"
     ]
    }
   ],
   "source": [
    "#Exercise 3 - What happens if it starts on x2\n",
    "#The way in which you put the data inside the algo is very important\n",
    "# This matrix has one variable and 3 observations\n",
    "classification_vector= np.array([1, -1, 1])\n",
    "# This matrix has two variables and 3 observations\n",
    "data_vector= np.array([\n",
    "    [-1,-1],\n",
    "    [1,0],\n",
    "    [-1,10]\n",
    "])\n",
    "\n",
    "data_vector= data_vector[[1,2,0]]\n",
    "#Initialize our theta vector according to the size of the data vector\n",
    "theta = np.zeros(len(data_vector[0])) \n",
    "##Count the number of errors\n",
    "errors = []\n",
    "##Loop it 10 times\n",
    "epochs = 10\n",
    "##Loop de Perceptron algorithm to update the weights\n",
    "for epoch in range(0,epochs): #training part, gradient descent part\n",
    "    for i, x in enumerate(data_vector):\n",
    "        if (classification_vector[i]*(np.dot(data_vector[i], theta))) < 1:\n",
    "            theta= theta + np.dot(classification_vector[i], data_vector[i])\n",
    "            error= 1\n",
    "        else:\n",
    "            theta= theta\n",
    "            error=0\n",
    "        errors.append(error)\n",
    "    print(theta)\n",
    "print(errors)"
   ]
  },
  {
   "cell_type": "code",
   "execution_count": 20,
   "metadata": {},
   "outputs": [
    {
     "name": "stdout",
     "output_type": "stream",
     "text": [
      "The test value is equal to [7 7]\n",
      "The update theta is equal to [ 0 10]\n"
     ]
    },
    {
     "data": {
      "text/plain": [
       "array([-7, -7])"
      ]
     },
     "execution_count": 20,
     "metadata": {},
     "output_type": "execute_result"
    }
   ],
   "source": [
    "classification_vector= np.array([1, -1, 1])\n",
    "# This matrix has two variables and 3 observations\n",
    "data_vector= np.array([\n",
    "    [-1,-1],\n",
    "    [1,0],\n",
    "    [-1,10]\n",
    "])\n",
    "\n",
    "##Example of an Iteration##\n",
    "test= classification_vector[1]* (np.dot(np.array([-2 ,9]), np.array([-1, -1])) + np.array([0,0]))\n",
    "new_theta = np.array([1 ,0]) + np.array([-1, 10]) \n",
    "print(\"The test value is equal to\", test)\n",
    "print(\"The update theta is equal to\", new_theta)\n",
    "np.dot(np.array([-2 ,9]), np.array([-1, -1])) + np.array([0,0])\n",
    "#Is the offset a single value ? "
   ]
  }
 ],
 "metadata": {
  "kernelspec": {
   "display_name": "Python 3",
   "language": "python",
   "name": "python3"
  },
  "language_info": {
   "codemirror_mode": {
    "name": "ipython",
    "version": 3
   },
   "file_extension": ".py",
   "mimetype": "text/x-python",
   "name": "python",
   "nbconvert_exporter": "python",
   "pygments_lexer": "ipython3",
   "version": "3.7.4"
  }
 },
 "nbformat": 4,
 "nbformat_minor": 4
}
