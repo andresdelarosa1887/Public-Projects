{
 "cells": [
  {
   "cell_type": "code",
   "execution_count": 17,
   "metadata": {},
   "outputs": [],
   "source": [
    "##Function used instructed by  the exercise.. craaazy stuff bro \n",
    "from string import punctuation, digits\n",
    "import numpy as np\n",
    "import random\n",
    "\n",
    "def get_order(n_samples):\n",
    "    try:\n",
    "        with open(str(n_samples) + '.txt') as fp:\n",
    "            line = fp.readline()\n",
    "            return list(map(int, line.split(',')))\n",
    "    except FileNotFoundError:\n",
    "        random.seed(1)\n",
    "        indices = list(range(n_samples))\n",
    "        random.shuffle(indices)\n",
    "        return indices"
   ]
  },
  {
   "cell_type": "code",
   "execution_count": 55,
   "metadata": {},
   "outputs": [
    {
     "data": {
      "text/plain": [
       "((10, 5), (10,))"
      ]
     },
     "execution_count": 55,
     "metadata": {},
     "output_type": "execute_result"
    }
   ],
   "source": [
    "feature_matrix= np.array([\n",
    "    [-1.85954975e-01, -5.09014576e-02,  3.18341925e-01, -4.92494361e-01, 1.17290142e-01],\n",
    "    [-2.67159545e-01, 1.58003187e-01, -3.07128547e-01, 1.52733302e-01, -9.28785729e-02],\n",
    "    [-1.68852441e-01,  2.13241036e-01,  1.05168850e-01,  3.86352473e-02, 8.45188135e-02],\n",
    "    [-3.27003047e-01,  4.30601481e-01, -3.22000933e-02, -2.95024675e-01, 1.05874501e-01], \n",
    "    [9.11263652e-02, -4.07725654e-01,  4.85931682e-02, -3.60755570e-01, 2.86148788e-02],\n",
    "    [-3.74836722e-01,  2.37854783e-01,  2.64549662e-01, -1.40486303e-01, -3.52008461e-01],\n",
    "    [-5.07496929e-02,  3.09763446e-01, -1.81890428e-01,  2.16650758e-01, 1.52858451e-01],\n",
    "    [1.30719418e-01, -2.57653578e-01, -4.92338668e-01,  4.50303583e-01, -1.06309065e-01],\n",
    "    [4.34751868e-01,  1.82111419e-02,  3.76404633e-01,  2.93951357e-01, 3.13608230e-01],\n",
    "    [1.48316020e-01,  3.95543188e-04, -3.14938610e-01,  4.55522298e-01, -1.66514414e-01]])\n",
    "labels= np.array([-1,  1 , 1 ,-1 ,-1 , 1 ,-1 ,-1 , 1 , 1])\n",
    "T= 5\n",
    "feature_matrix.shape, labels.shape"
   ]
  },
  {
   "cell_type": "code",
   "execution_count": 59,
   "metadata": {},
   "outputs": [
    {
     "name": "stdout",
     "output_type": "stream",
     "text": [
      "(array([-0.37221919,  0.73080777,  1.240236  ,  1.33820397, -1.5855864 ]), 0)\n"
     ]
    }
   ],
   "source": [
    "theta_0  = 0\n",
    "theta= np.zeros(len(feature_matrix[0])) \n",
    "for epoch in range(1,T): \n",
    "    for i in get_order(feature_matrix.shape[0]):\n",
    "        if (labels[i]*(np.dot(feature_matrix[i], theta) + theta_0)) <= 0:\n",
    "            theta= theta + (np.dot(labels[i], feature_matrix[i]))\n",
    "            theta_0= (theta_0 + labels[i])\n",
    "        else:\n",
    "            theta_0= theta_0\n",
    "            theta= theta\n",
    "print((theta, theta_0))"
   ]
  }
 ],
 "metadata": {
  "kernelspec": {
   "display_name": "Python 3",
   "language": "python",
   "name": "python3"
  },
  "language_info": {
   "codemirror_mode": {
    "name": "ipython",
    "version": 3
   },
   "file_extension": ".py",
   "mimetype": "text/x-python",
   "name": "python",
   "nbconvert_exporter": "python",
   "pygments_lexer": "ipython3",
   "version": "3.7.1"
  }
 },
 "nbformat": 4,
 "nbformat_minor": 2
}
