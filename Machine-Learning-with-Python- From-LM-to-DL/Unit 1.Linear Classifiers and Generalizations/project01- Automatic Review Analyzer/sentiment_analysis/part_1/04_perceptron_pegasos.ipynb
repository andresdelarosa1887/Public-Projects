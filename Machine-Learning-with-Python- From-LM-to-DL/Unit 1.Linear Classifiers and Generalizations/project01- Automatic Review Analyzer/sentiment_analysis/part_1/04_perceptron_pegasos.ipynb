{
 "cells": [
  {
   "cell_type": "markdown",
   "metadata": {},
   "source": [
    "#  Pegasos Algorithm\n",
    "Now you will implement the Pegasos algorithm. For more information, refer to the original paper at original paper.\n",
    "\n",
    "The following pseudo-code describes the Pegasos update rule.\n",
    "\n",
    "Pegasos update rule (x(i),y(i),λ,η,θ): \n",
    "if  y(i)(θ⋅x(i))≤1  then\n",
    "  update  θ=(1−ηλ)θ+ηy(i)x(i) \n",
    "else:\n",
    "  update  θ=(1−ηλ)θ \n",
    "\n",
    "The  η  parameter is a decaying factor that will decrease over time. The  λ  parameter is a regularizing parameter.\n",
    "\n",
    "In this problem, you will need to adapt this update rule to add a bias term ( θ0 ) to the hypothesis, but take care not to penalize the magnitude of  θ0 ."
   ]
  },
  {
   "cell_type": "code",
   "execution_count": 3,
   "metadata": {},
   "outputs": [],
   "source": [
    "def pegasos_single_step_update(\n",
    "        feature_vector,\n",
    "        label,\n",
    "        L,\n",
    "        eta,\n",
    "        current_theta,\n",
    "        current_theta_0):\n",
    "    if label*(feature_vector@current_theta + current_theta_0) <= 1:\n",
    "        current_theta =  (1 - eta*L)*current_theta + eta*label*feature_vector\n",
    "        current_theta_0 = current_theta_0 + eta*label\n",
    "    else:\n",
    "        current_theta =  (1 - eta*L)*current_theta\n",
    "    return (current_theta, current_theta_0)"
   ]
  },
  {
   "cell_type": "code",
   "execution_count": 5,
   "metadata": {},
   "outputs": [],
   "source": [
    "def perceptron(feature_matrix, labels, T, L):\n",
    "    theta = np.ones(feature_matrix.shape[1])\n",
    "    theta_0 = np.zeros(1)\n",
    "    sum_theta = np.zeros(feature_matrix.shape[1])\n",
    "    sum_theta_0 = np.zeros(1)\n",
    "    pegasos_theta = np.zeros(feature_matrix.shape[1])\n",
    "    pegasos_theta_0 = np.zeros(1)\n",
    "    update_counter = 0\n",
    "    \n",
    "    # updating perceptrons\n",
    "    for t in range(T):\n",
    "        for i in range(feature_matrix.shape[0]):\n",
    "            update_counter += 1\n",
    "            eta = 1/np.sqrt(update_counter)\n",
    "            theta, theta_0 = perceptron_single_step_update(feature_matrix[i],\n",
    "                                                          labels[i],\n",
    "                                                          theta,\n",
    "                                                          theta_0)\n",
    "            sum_theta += theta\n",
    "            sum_theta_0 += theta_0\n",
    "            pegasos_theta, pegasos_theta_0 = pegasos_single_step_update(feature_matrix[i],\n",
    "                                                                        labels[i],\n",
    "                                                                        L,\n",
    "                                                                        eta,\n",
    "                                                                        pegasos_theta,\n",
    "                                                                        pegasos_theta_0)\n",
    "    return (pegasos_theta, pegasos_theta_0)"
   ]
  }
 ],
 "metadata": {
  "kernelspec": {
   "display_name": "Python 3",
   "language": "python",
   "name": "python3"
  },
  "language_info": {
   "codemirror_mode": {
    "name": "ipython",
    "version": 3
   },
   "file_extension": ".py",
   "mimetype": "text/x-python",
   "name": "python",
   "nbconvert_exporter": "python",
   "pygments_lexer": "ipython3",
   "version": "3.7.1"
  }
 },
 "nbformat": 4,
 "nbformat_minor": 2
}
