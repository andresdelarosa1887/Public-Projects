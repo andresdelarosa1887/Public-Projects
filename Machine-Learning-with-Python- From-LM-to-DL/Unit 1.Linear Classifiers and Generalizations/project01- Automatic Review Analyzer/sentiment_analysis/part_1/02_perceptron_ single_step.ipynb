{
 "cells": [
  {
   "cell_type": "markdown",
   "metadata": {},
   "source": [
    "# Perceptron Single Step Update\n",
    "\n",
    "Now you will implement the single step update for the perceptron algorithm (implemented with  0−1  loss). You will be given the feature vector as an array of numbers, the current  θ  and  θ0  parameters, and the correct label of the feature vector. The function should return a tuple in which the first element is the correctly updated value of  θ  and the second element is the correctly updated value of  θ0 .\n",
    "\n",
    "Available Functions: You have access to the NumPy python library as np.\n",
    "\n",
    "Tip:: Because of numerical instabilities, it is preferable to identify  0  with a small range  [−ε,ε] . That is, when  x  is a float, “ x=0 \" should be checked with  |x|<ε ."
   ]
  },
  {
   "cell_type": "code",
   "execution_count": 128,
   "metadata": {},
   "outputs": [
    {
     "data": {
      "text/plain": [
       "(array([-0.3525065 ,  0.14089595, -0.38289749, -0.22981247, -0.1796229 ,\n",
       "        -0.35851499,  0.19970475,  0.22760155,  0.39383912,  0.4002642 ]),\n",
       " -0.731389098744194)"
      ]
     },
     "execution_count": 128,
     "metadata": {},
     "output_type": "execute_result"
    }
   ],
   "source": [
    "#Defined Function\n",
    "def perceptron_single_step_update(feature_vector,label,current_theta, current_theta_0):\n",
    "    if (label*(np.dot(feature_vector, current_theta) + current_theta_0)) <= 0:\n",
    "        current_theta= current_theta + (np.dot(label, feature_vector))\n",
    "        current_theta_0= (current_theta_0 + label)\n",
    "    else:\n",
    "        current_theta_0= current_theta_0\n",
    "        current_theta= current_theta\n",
    "    return (current_theta, current_theta_0)\n",
    "\n",
    "##Example\n",
    "feature_vector= np.array([-0.45857273, -0.33374714,  0.0101883,   0.06653433, -0.03850377, -0.32448486,\n",
    " -0.36190903, -0.48311127, -0.47592383, -0.24156544])\n",
    "\n",
    "label= -1\n",
    "current_theta=  np.array([-0.3525065,   0.14089595, -0.38289749, -0.22981247, -0.1796229,  -0.35851499,\n",
    "  0.19970475,  0.22760155,  0.39383912,  0.4002642])\n",
    "current_theta_0= -0.731389098744194\n",
    "\n",
    "perceptron_single_step_update(feature_vector,label,current_theta, current_theta_0)"
   ]
  },
  {
   "cell_type": "markdown",
   "metadata": {},
   "source": [
    "# Full Perceptron Algorithm\n",
    "In this step you will implement the full perceptron algorithm. You will be given the same feature matrix and labels array as you were given in The Complete Hinge Loss. You will also be given  T , the maximum number of times that you should iterate through the feature matrix before terminating the algorithm. Initialize  θ  and  θ0  to zero. This function should return a tuple in which the first element is the final value of  θ  and the second element is the value of  θ0 .\n",
    "\n",
    "Tip: Call the function perceptron_single_step_update directly without coding it again.\n",
    "\n",
    "Hint: Make sure you initialize theta to a 1D array of shape (n,) and not a 2D array of shape (1, n).\n",
    "\n",
    "Note: Please call get_order(feature_matrix.shape[0]), and use the ordering to iterate the feature matrix in each iteration. The ordering is specified due to grading purpose. In practice, people typically just randomly shuffle indices to do stochastic optimization.\n",
    "\n",
    "Available Functions: You have access to the NumPy python library as np and perceptron_single_step_update which you have already implemented."
   ]
  },
  {
   "cell_type": "code",
   "execution_count": 327,
   "metadata": {},
   "outputs": [],
   "source": [
    "##Function used instructed by  the exercise.. craaazy stuff bro \n",
    "from string import punctuation, digits\n",
    "import numpy as np\n",
    "import random\n",
    "from matplotlib import pyplot as plt\n",
    "%matplotlib inline\n",
    "\n",
    "def get_order(n_samples):\n",
    "    try:\n",
    "        with open(str(n_samples) + '.txt') as fp:\n",
    "            line = fp.readline()\n",
    "            return list(map(int, line.split(',')))\n",
    "    except FileNotFoundError:\n",
    "        random.seed(1)\n",
    "        indices = list(range(n_samples))\n",
    "        random.shuffle(indices)\n",
    "        return indices"
   ]
  },
  {
   "cell_type": "code",
   "execution_count": 354,
   "metadata": {},
   "outputs": [],
   "source": [
    "def perceptron(feature_matrix, labels, T):\n",
    "    theta_0  = 0\n",
    "    theta= np.zeros(len(feature_matrix[0])) \n",
    "    for epoch in range(T): \n",
    "        for i in get_order(feature_matrix.shape[0]):\n",
    "            if (labels[i]*(np.dot(feature_matrix[i], theta) + theta_0)) <= 0:\n",
    "                theta= theta + (np.dot(labels[i], feature_matrix[i]))\n",
    "                theta_0= (theta_0 + labels[i])\n",
    "            else:\n",
    "                theta_0= theta_0\n",
    "                theta= theta\n",
    "    return((theta, theta_0))"
   ]
  },
  {
   "cell_type": "code",
   "execution_count": 355,
   "metadata": {},
   "outputs": [
    {
     "data": {
      "text/plain": [
       "(array([-0.15387717,  0.59725865,  1.49140252,  1.56823787, -1.51771519]), 1)"
      ]
     },
     "execution_count": 355,
     "metadata": {},
     "output_type": "execute_result"
    }
   ],
   "source": [
    "#Example\n",
    "feature_matrix= np.array([\n",
    "    [-1.85954975e-01, -5.09014576e-02,  3.18341925e-01, -4.92494361e-01, 1.17290142e-01],\n",
    "    [-2.67159545e-01, 1.58003187e-01, -3.07128547e-01, 1.52733302e-01, -9.28785729e-02],\n",
    "    [-1.68852441e-01,  2.13241036e-01,  1.05168850e-01,  3.86352473e-02, 8.45188135e-02],\n",
    "    [-3.27003047e-01,  4.30601481e-01, -3.22000933e-02, -2.95024675e-01, 1.05874501e-01], \n",
    "    [9.11263652e-02, -4.07725654e-01,  4.85931682e-02, -3.60755570e-01, 2.86148788e-02],\n",
    "    [-3.74836722e-01,  2.37854783e-01,  2.64549662e-01, -1.40486303e-01, -3.52008461e-01],\n",
    "    [-5.07496929e-02,  3.09763446e-01, -1.81890428e-01,  2.16650758e-01, 1.52858451e-01],\n",
    "    [1.30719418e-01, -2.57653578e-01, -4.92338668e-01,  4.50303583e-01, -1.06309065e-01],\n",
    "    [4.34751868e-01,  1.82111419e-02,  3.76404633e-01,  2.93951357e-01, 3.13608230e-01],\n",
    "    [1.48316020e-01,  3.95543188e-04, -3.14938610e-01,  4.55522298e-01, -1.66514414e-01]])\n",
    "labels= np.array([-1,  1 , 1 ,-1 ,-1 , 1 ,-1 ,-1 , 1 , 1])\n",
    "T= 5\n",
    "perceptron(feature_matrix, labels, T)"
   ]
  },
  {
   "cell_type": "code",
   "execution_count": 370,
   "metadata": {},
   "outputs": [],
   "source": [
    "def perceptron(feature_matrix, labels, T):\n",
    "    current_theta_0  = 0\n",
    "    current_theta= np.zeros(len(feature_matrix[0]))\n",
    "    for epoch in range(T): \n",
    "        for i in get_order(feature_matrix.shape[0]):\n",
    "            if (labels[i]*(np.dot(feature_matrix[i], current_theta) + current_theta_0)) <= 0:\n",
    "                current_theta= current_theta + (np.dot(labels[i], feature_matrix[i]))\n",
    "                current_theta_0= (current_theta_0 + labels[i])\n",
    "            else:\n",
    "                current_theta= current_theta\n",
    "                current_theta_0 = current_theta_0\n",
    "    return((current_theta, current_theta_0))"
   ]
  },
  {
   "cell_type": "code",
   "execution_count": 371,
   "metadata": {},
   "outputs": [
    {
     "data": {
      "text/plain": [
       "(array([-0.15387717,  0.59725865,  1.49140252,  1.56823787, -1.51771519]), 1)"
      ]
     },
     "execution_count": 371,
     "metadata": {},
     "output_type": "execute_result"
    }
   ],
   "source": [
    "perceptron(feature_matrix, labels, T)"
   ]
  }
 ],
 "metadata": {
  "kernelspec": {
   "display_name": "Python 3",
   "language": "python",
   "name": "python3"
  },
  "language_info": {
   "codemirror_mode": {
    "name": "ipython",
    "version": 3
   },
   "file_extension": ".py",
   "mimetype": "text/x-python",
   "name": "python",
   "nbconvert_exporter": "python",
   "pygments_lexer": "ipython3",
   "version": "3.7.1"
  }
 },
 "nbformat": 4,
 "nbformat_minor": 2
}
