{
 "cells": [
  {
   "cell_type": "code",
   "execution_count": 11,
   "metadata": {},
   "outputs": [],
   "source": [
    "import numpy as np\n",
    "def empirical_risk(feature_matrix, labels, theta):\n",
    "    total_loss= []\n",
    "    for i, x  in enumerate(feature_matrix):\n",
    "        loss = labels[i] - (np.dot(feature_matrix[i], theta))\n",
    "        total_loss.append(loss)\n",
    "    return(sum(total_loss), )"
   ]
  },
  {
   "cell_type": "code",
   "execution_count": 12,
   "metadata": {},
   "outputs": [
    {
     "name": "stdout",
     "output_type": "stream",
     "text": [
      "[0.0, -0.2999999999999998, 0.30000000000000004, -1.0]\n"
     ]
    }
   ],
   "source": [
    "import numpy as np\n",
    "feature_matrix= np.array([[1,0,1],\n",
    "                          [1,1,1],\n",
    "                          [1,1,-1],\n",
    "                          [-1,1,1]\n",
    "                         ])\n",
    "labels= np.array([2,\n",
    "                  2.7,\n",
    "                  -0.7,\n",
    "                  2])\n",
    "\n",
    "theta= np.array([0, 1,2])\n",
    "\n",
    "empirical_risk(feature_matrix, labels, theta)"
   ]
  },
  {
   "cell_type": "code",
   "execution_count": 21,
   "metadata": {},
   "outputs": [
    {
     "name": "stdout",
     "output_type": "stream",
     "text": [
      "0\n",
      "1\n",
      "2\n",
      "3\n"
     ]
    }
   ],
   "source": [
    "def empirical_risk(feature_matrix, labels, theta):\n",
    "    for i, x in enumerate(feature_matrix):\n",
    "        print(i)\n",
    "empirical_risk(feature_matrix, labels, theta)"
   ]
  },
  {
   "cell_type": "code",
   "execution_count": 27,
   "metadata": {},
   "outputs": [
    {
     "data": {
      "text/plain": [
       "2"
      ]
     },
     "execution_count": 27,
     "metadata": {},
     "output_type": "execute_result"
    }
   ],
   "source": [
    "np.dot(feature_matrix[0], theta)"
   ]
  }
 ],
 "metadata": {
  "kernelspec": {
   "display_name": "Python 3",
   "language": "python",
   "name": "python3"
  },
  "language_info": {
   "codemirror_mode": {
    "name": "ipython",
    "version": 3
   },
   "file_extension": ".py",
   "mimetype": "text/x-python",
   "name": "python",
   "nbconvert_exporter": "python",
   "pygments_lexer": "ipython3",
   "version": "3.7.4"
  }
 },
 "nbformat": 4,
 "nbformat_minor": 4
}
