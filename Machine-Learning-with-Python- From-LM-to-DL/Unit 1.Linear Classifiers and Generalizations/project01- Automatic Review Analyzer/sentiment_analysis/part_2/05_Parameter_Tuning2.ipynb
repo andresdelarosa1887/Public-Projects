{
 "cells": [
  {
   "cell_type": "markdown",
   "metadata": {},
   "source": [
    "# 8. Parameter Tuning"
   ]
  },
  {
   "cell_type": "code",
   "execution_count": 29,
   "metadata": {},
   "outputs": [],
   "source": [
    "import project1 as p1\n",
    "import utils\n",
    "import numpy as np\n",
    "\n",
    "#-------------------------------------------------------------------------------\n",
    "# Data loading. There is no need to edit code in this section.\n",
    "#-------------------------------------------------------------------------------\n",
    "\n",
    "train_data = utils.load_data('reviews_train.tsv')\n",
    "val_data = utils.load_data('reviews_val.tsv')\n",
    "test_data = utils.load_data('reviews_test.tsv')\n",
    "\n",
    "train_texts, train_labels = zip(*((sample['text'], sample['sentiment']) for sample in train_data))\n",
    "val_texts, val_labels = zip(*((sample['text'], sample['sentiment']) for sample in val_data))\n",
    "test_texts, test_labels = zip(*((sample['text'], sample['sentiment']) for sample in test_data))\n",
    "\n",
    "dictionary = p1.bag_of_words(train_texts)\n",
    "\n",
    "train_bow_features = p1.extract_bow_feature_vectors(train_texts, dictionary)\n",
    "val_bow_features = p1.extract_bow_feature_vectors(val_texts, dictionary)\n",
    "test_bow_features = p1.extract_bow_feature_vectors(test_texts, dictionary)"
   ]
  },
  {
   "cell_type": "code",
   "execution_count": 21,
   "metadata": {},
   "outputs": [
    {
     "name": "stdout",
     "output_type": "stream",
     "text": [
      "Most Explanatory Word Features\n",
      "['!', 'love', 'favorite', 'perfect', 'gluten', 'treat', 'especially', 'and', 'best']\n"
     ]
    }
   ],
   "source": [
    "#Pegasus T= 25\n",
    "theta, theta_0= p1.pegasos(test_bow_features, test_labels, 25,0.01)\n",
    "\n",
    "def accuracy(preds, targets):\n",
    "    return (preds == targets).mean()\n",
    "\n",
    "def classify(feature_matrix, theta, theta_0):\n",
    "    return((np.sum(feature_matrix*theta, axis=1) + theta_0) > 0)*2 - 1\n",
    "\n",
    "def classifier_accuracy(classifier, train_feature_matrix, val_feature_matrix, train_labels, val_labels, T, L):\n",
    "    train_theta, train_theta_0 = classifier(train_feature_matrix, train_labels, T, L)\n",
    "    train_predictions= classify(train_feature_matrix, train_theta, train_theta_0)\n",
    "    trained_validation  = classify(val_feature_matrix, train_theta, train_theta_0)\n",
    "    train_accuracy = accuracy(train_predictions, train_labels)\n",
    "    val_accuracy = accuracy(trained_validation, val_labels)\n",
    "    return(train_accuracy, val_accuracy)\n",
    "\n",
    "accuracy = classifier_accuracy(p1.pegasos, train_bow_features, test_bow_features,train_labels,test_labels, 25, 0.01)\n",
    "#-------------------------------------------------------------------------------\n",
    "#Assign to best_theta, the weights (and not the bias!) learned by your most\n",
    "#accurate algorithm with the optimal choice of hyperparameters.\n",
    "#-------------------------------------------------------------------------------\n",
    "theta, theta_0= p1.pegasos(test_bow_features, test_labels, 25,0.01)\n",
    "best_theta = theta\n",
    "wordlist   = [word for (idx, word) in sorted(zip(dictionary.values(), dictionary.keys()))]\n",
    "sorted_word_features = utils.most_explanatory_word(best_theta, wordlist)\n",
    "print(\"Most Explanatory Word Features\")\n",
    "print(sorted_word_features[1:10])"
   ]
  },
  {
   "cell_type": "code",
   "execution_count": 43,
   "metadata": {},
   "outputs": [
    {
     "name": "stdout",
     "output_type": "stream",
     "text": [
      "Most Explanatory Word Features\n",
      "['delicious', 'great', '!', 'best', 'perfect', 'loves', 'wonderful', 'glad', 'love', 'quickly']\n"
     ]
    }
   ],
   "source": [
    "import utils\n",
    "theta, theta_0= p1.pegasos(train_bow_features, train_labels, 25,0.01)\n",
    "\n",
    "best_theta = theta\n",
    "wordlist   = [word for (idx, word) in sorted(zip(dictionary.values(), dictionary.keys()))]\n",
    "sorted_word_features = utils.most_explanatory_word(best_theta, wordlist)\n",
    "print(\"Most Explanatory Word Features\")\n",
    "print(sorted_word_features[0:10])"
   ]
  }
 ],
 "metadata": {
  "kernelspec": {
   "display_name": "Python 3",
   "language": "python",
   "name": "python3"
  },
  "language_info": {
   "codemirror_mode": {
    "name": "ipython",
    "version": 3
   },
   "file_extension": ".py",
   "mimetype": "text/x-python",
   "name": "python",
   "nbconvert_exporter": "python",
   "pygments_lexer": "ipython3",
   "version": "3.7.1"
  }
 },
 "nbformat": 4,
 "nbformat_minor": 2
}
