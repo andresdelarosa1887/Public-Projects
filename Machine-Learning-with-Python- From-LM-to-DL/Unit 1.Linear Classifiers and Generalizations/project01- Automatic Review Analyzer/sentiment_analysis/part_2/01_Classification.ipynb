{
 "cells": [
  {
   "cell_type": "markdown",
   "metadata": {},
   "source": [
    "# Classification\n",
    "\n",
    "Implement a classification function that uses  θ  and  θ0  to classify a set of data points. You are given the feature matrix,  θ , and  θ0  as defined in previous sections. This function should return a numpy array of -1s and 1s. If a prediction is greater than zero, it should be considered a positive classification."
   ]
  },
  {
   "cell_type": "code",
   "execution_count": 16,
   "metadata": {},
   "outputs": [],
   "source": [
    "import numpy as np\n",
    "def classify(feature_matrix, theta, theta_0):\n",
    "    result= []\n",
    "    for i, x in enumerate(feature_matrix): \n",
    "        if (np.dot(feature_matrix[i], theta) + theta_0) >0: \n",
    "            classification= 1\n",
    "        else:\n",
    "            classification= -1 \n",
    "        result.append(classification)\n",
    "    return(np.array(result))"
   ]
  },
  {
   "cell_type": "code",
   "execution_count": 17,
   "metadata": {},
   "outputs": [
    {
     "data": {
      "text/plain": [
       "array([ 1,  1, -1, -1, -1])"
      ]
     },
     "execution_count": 17,
     "metadata": {},
     "output_type": "execute_result"
    }
   ],
   "source": [
    "data_vector= np.array([\n",
    "    [-4,2],\n",
    "    [-2,1],\n",
    "    [-1,-1], \n",
    "    [2,2], \n",
    "    [1,-2]\n",
    "])\n",
    "#Initialize our theta_0 and theta vector according to the size of the data vector\n",
    "theta_0  = -1 # since we have an offset it needs to be a scalar np.zeros(len(data_vector[0])) \n",
    "theta= np.array([-1,0])  # or np.zeros(len(data_vector[0])) \n",
    "classify(data_vector, theta, theta_0)"
   ]
  }
 ],
 "metadata": {
  "kernelspec": {
   "display_name": "Python 3",
   "language": "python",
   "name": "python3"
  },
  "language_info": {
   "codemirror_mode": {
    "name": "ipython",
    "version": 3
   },
   "file_extension": ".py",
   "mimetype": "text/x-python",
   "name": "python",
   "nbconvert_exporter": "python",
   "pygments_lexer": "ipython3",
   "version": "3.7.1"
  }
 },
 "nbformat": 4,
 "nbformat_minor": 2
}
