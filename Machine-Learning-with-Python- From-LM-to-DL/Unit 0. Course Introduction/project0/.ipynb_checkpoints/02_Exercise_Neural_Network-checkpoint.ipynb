{
 "cells": [
  {
   "cell_type": "markdown",
   "metadata": {},
   "source": [
    "# Exercise- Neural Network\n",
    "\n",
    "As introduced in the previous section, a neural network is a powerful tool often utilized in machine learning. Because neural networks are, fundamentally, very mathematical, we'll use them to motivate Numpy!\n",
    "\n",
    "We review the simplest neural network here:\n",
    "![](images_basic_nn.png)\n",
    "\n",
    "The output of the neural network,  z1 , is dependent on the inputs  x1  and  x2 . The importance of each of the inputs is given by values called weights. There is one weight from each input to each output. We show this here:\n",
    "![](images_basic_nn_weights.png)\n",
    "\n",
    "The inputs are given by  x , and the outputs are given by  z1 . Here,  w11  is the weight of input 1 on output 1 (our only output in this case), and  w21  is the weight of input 2 on output 1. In general,  wij  represents the weight of input  i  on output  j .\n",
    "\n",
    "The output,  z1 , is given by  z1=f(w11x1+w21x2) :\n",
    "![](images_basic_nn_product1.png)\n",
    "\n",
    "where  f  is a specified nonlinear function, and it is usually the hyperbolic tangent function,  tanh .\n",
    "\n",
    "If we express our inputs and weights as matrices, as shown here,\n",
    "![](images_basic_nn_product_matrices.png)\n",
    "\n",
    "then we can develop an elegant mathematical expression:  z1=tanh(wTx⃗ ) ."
   ]
  },
  {
   "cell_type": "markdown",
   "metadata": {},
   "source": [
    "1. Here, we will write a function neural_network, which will apply a neural network operation with   2 inputs and 1 output and a given weight matrix.\n",
    "\n",
    "   Your function should take two arguments: inputs and weights, two NumPy arrays of shape  (2,1)  and should return a NumPy array of shape  (1,1) , the output of the neural network. Do not forget the  tanh  activation."
   ]
  },
  {
   "cell_type": "code",
   "execution_count": 112,
   "metadata": {},
   "outputs": [],
   "source": [
    "import numpy as np\n",
    "def neural_network(inputs, weights):\n",
    "    \"\"\"\n",
    "     Takes an input vector and runs it through a 1-layer neural network\n",
    "     with a given weight matrix and returns the output.\n",
    "\n",
    "     Arg:\n",
    "       inputs - 2 x 1 NumPy array\n",
    "       weights - 2 x 1 NumPy array\n",
    "     Returns (in this order):\n",
    "       out - a 1 x 1 NumPy array, representing the output of the neural network\n",
    "    \"\"\"\n",
    "    #Your code here\n",
    "    raise NotImplementedError"
   ]
  },
  {
   "cell_type": "code",
   "execution_count": 246,
   "metadata": {},
   "outputs": [
    {
     "data": {
      "text/plain": [
       "array([2, 1])"
      ]
     },
     "execution_count": 246,
     "metadata": {},
     "output_type": "execute_result"
    }
   ],
   "source": [
    "##Incorrect submission because I was recieving a vector (2,) when it was supposed to be a (2 x 1 array)\n",
    "def neural_network(inputs, weights):\n",
    "    multiplication= np.tanh(np.dot(inputs,weights))\n",
    "    return multiplication\n",
    "\n",
    "inputs = np.array([2,1])\n",
    "weights = np.array([3,1])\n",
    "neural_network(inputs,weights)"
   ]
  },
  {
   "cell_type": "code",
   "execution_count": 237,
   "metadata": {},
   "outputs": [],
   "source": [
    "##I have to transform the weights into a (1,2) and then multiply it\n",
    "def neural_network(inputs, weights):\n",
    "    multiplication=  np.tanh(np.dot(np.squeeze(inputs),np.squeeze(weights)))\n",
    "    multiplication= np.array(multiplication, ndmin=2)\n",
    "    return multiplication"
   ]
  },
  {
   "cell_type": "code",
   "execution_count": 243,
   "metadata": {},
   "outputs": [
    {
     "name": "stdout",
     "output_type": "stream",
     "text": [
      "inputs shape [[0.628692 ]\n",
      " [0.8245354]] (2, 1)\n",
      "weights shape [[0.30583591]\n",
      " [0.23121399]] (2, 1)\n",
      "Final result [[0.36524125]]\n"
     ]
    }
   ],
   "source": [
    "### Taking into account a 2 x 1 Numpy array\n",
    "inputs= np.array([0.628692,0.8245354])\n",
    "inputs= np.array(inputs, ndmin=2).T \n",
    "print(\"inputs shape\", inputs, inputs.shape) # a 2 x 1 NumPy array\n",
    "weights= np.array([0.30583591,0.23121399])\n",
    "weights= np.array(weights, ndmin=2).T \n",
    "print(\"weights shape\", weights, weights.shape) # a 2 x 1 NumPy array\n",
    "\n",
    "##Testing de Function that gives a result that has an output size of (1,1)\n",
    "data = neural_network(inputs, weights)\n",
    "print(\"Final result\", result)"
   ]
  }
 ],
 "metadata": {
  "kernelspec": {
   "display_name": "Python 3",
   "language": "python",
   "name": "python3"
  },
  "language_info": {
   "codemirror_mode": {
    "name": "ipython",
    "version": 3
   },
   "file_extension": ".py",
   "mimetype": "text/x-python",
   "name": "python",
   "nbconvert_exporter": "python",
   "pygments_lexer": "ipython3",
   "version": "3.7.4"
  }
 },
 "nbformat": 4,
 "nbformat_minor": 4
}
