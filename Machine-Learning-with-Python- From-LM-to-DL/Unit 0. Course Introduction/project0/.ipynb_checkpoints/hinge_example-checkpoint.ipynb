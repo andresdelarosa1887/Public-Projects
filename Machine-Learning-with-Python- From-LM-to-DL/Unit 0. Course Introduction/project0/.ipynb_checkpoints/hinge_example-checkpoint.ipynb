{
 "cells": [
  {
   "cell_type": "code",
   "execution_count": 5,
   "metadata": {},
   "outputs": [
    {
     "data": {
      "text/plain": [
       "[<matplotlib.lines.Line2D at 0x1d24fc31400>]"
      ]
     },
     "execution_count": 5,
     "metadata": {},
     "output_type": "execute_result"
    },
    {
     "data": {
      "image/png": "[encoded data removed]",
      "text/plain": [
       "<Figure size 432x288 with 1 Axes>"
      ]
     },
     "metadata": {
      "needs_background": "light"
     },
     "output_type": "display_data"
    }
   ],
   "source": [
    "#To help us perform math operations\n",
    "import numpy as np\n",
    "#to plot our data and model visually\n",
    "from matplotlib import pyplot as plt\n",
    "%matplotlib inline\n",
    "#Step 1 - Define our data\n",
    "#Input data - Of the form [X value, Y value, Bias term]\n",
    "X = np.array([\n",
    "[-2,4,-1],\n",
    "[4,1,-1],\n",
    "[1, 6, -1],\n",
    "[2, 4, -1],\n",
    "[6, 2, -1],\n",
    "])\n",
    "#Associated output labels - First 2 examples are labeled '-1' and last 3 are labeled '+1'\n",
    "y = np.array([-1,-1,1,1,1])\n",
    "#lets plot these examples on a 2D graph!\n",
    "#for each example\n",
    "for d, sample in enumerate(X):\n",
    "    if d < 2:\n",
    "        plt.scatter(sample[0], sample[1], s=120, marker='_', linewidths=2)\n",
    "    else:\n",
    "        plt.scatter(sample[0], sample[1], s=120, marker='+', linewidths=2)\n",
    "# Print a possible hyperplane, that is seperating the two classes.\n",
    "#we'll two points and draw the line between them (naive guess)\n",
    "plt.plot([-2,6],[6,0.5])"
   ]
  },
  {
   "cell_type": "code",
   "execution_count": 8,
   "metadata": {},
   "outputs": [],
   "source": [
    "#lets perform stochastic gradient descent to learn the seperating hyperplane between both classes\n",
    "def svm_sgd_plot(X, Y):\n",
    "    w = np.zeros(len(X[0])) #Initialize our SVMs weight vector with zeros (3 values)\n",
    "    eta = 1 #The learning rate\n",
    "    epochs = 100000 #how many iterations to train for #store misclassifications so we can plot how they change over time\n",
    "    errors = []\n",
    "    for epoch in range(1,epochs): #training part, gradient descent part\n",
    "        error = 0\n",
    "        for i, x in enumerate(X):\n",
    "            if (Y[i]*np.dot(X[i], w)) < 1: #misclassification\n",
    "                w = w + eta * ( (X[i] * Y[i]) + (-2  *(1/epoch)* w) ) #misclassified update for ours weights\n",
    "                error = 1\n",
    "            else: #correct classification, update our weights\n",
    "                w = w + eta * (-2  *(1/epoch)* w)\n",
    "            errors.append(error)\n",
    "\n",
    "    #lets plot the rate of classification errors during training for our SVM\n",
    "    plt.plot(errors, '|')\n",
    "    plt.ylim(0.5,1.5)\n",
    "    plt.axes().set_yticklabels([])\n",
    "    plt.xlabel('Epoch')\n",
    "    plt.ylabel('Misclassified')\n",
    "    plt.show()\n",
    "    return w"
   ]
  },
  {
   "cell_type": "code",
   "execution_count": 9,
   "metadata": {},
   "outputs": [
    {
     "name": "stderr",
     "output_type": "stream",
     "text": [
      "C:\\Users\\andre\\Anaconda3\\lib\\site-packages\\matplotlib\\figure.py:98: MatplotlibDeprecationWarning: \n",
      "Adding an axes using the same arguments as a previous axes currently reuses the earlier instance.  In a future version, a new instance will always be created and returned.  Meanwhile, this warning can be suppressed, and the future behavior ensured, by passing a unique label to each axes instance.\n",
      "  \"Adding an axes using the same arguments as a previous axes \"\n"
     ]
    },
    {
     "data": {
      "image/png": "[encoded data removed]",
      "text/plain": [
       "<Figure size 432x288 with 1 Axes>"
      ]
     },
     "metadata": {
      "needs_background": "light"
     },
     "output_type": "display_data"
    },
    {
     "data": {
      "text/plain": [
       "array([ 1.58876117,  3.17458055, 11.11863105])"
      ]
     },
     "execution_count": 9,
     "metadata": {},
     "output_type": "execute_result"
    }
   ],
   "source": [
    "svm_sgd_plot(X, y)"
   ]
  }
 ],
 "metadata": {
  "kernelspec": {
   "display_name": "Python 3",
   "language": "python",
   "name": "python3"
  },
  "language_info": {
   "codemirror_mode": {
    "name": "ipython",
    "version": 3
   },
   "file_extension": ".py",
   "mimetype": "text/x-python",
   "name": "python",
   "nbconvert_exporter": "python",
   "pygments_lexer": "ipython3",
   "version": "3.7.1"
  }
 },
 "nbformat": 4,
 "nbformat_minor": 4
}
