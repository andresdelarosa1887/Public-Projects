{
 "cells": [
  {
   "cell_type": "code",
   "execution_count": 25,
   "metadata": {},
   "outputs": [
    {
     "data": {
      "text/plain": [
       "[<matplotlib.lines.Line2D at 0x264c7f61ec8>]"
      ]
     },
     "execution_count": 25,
     "metadata": {},
     "output_type": "execute_result"
    },
    {
     "data": {
      "image/png": "[encoded data removed]",
      "text/plain": [
       "<Figure size 432x288 with 1 Axes>"
      ]
     },
     "metadata": {
      "needs_background": "light"
     },
     "output_type": "display_data"
    }
   ],
   "source": [
    "import numpy as np\n",
    "#to plot our data and model visually\n",
    "from matplotlib import pyplot as plt\n",
    "%matplotlib inline\n",
    "#Step 1 - Define our data\n",
    "#Input data - Of the form [X value, Y value, Bias term]\n",
    "X = np.array([\n",
    "[-1,1],\n",
    "[1,-1],\n",
    "[1, 1],\n",
    "[2, 2]\n",
    "])\n",
    "y = np.array([1,1,-1,-1])\n",
    "#Associated output labels - First 2 examples are labeled '-1' and last 3 are labeled '+1'\n",
    "#lets plot these examples on a 2D graph!\n",
    "#for each example\n",
    "for d, sample in enumerate(X):\n",
    "    if d < 2:\n",
    "        plt.scatter(sample[0], sample[1], s=120, marker='+', linewidths=2)\n",
    "    else:\n",
    "        plt.scatter(sample[0], sample[1], s=120, marker='_', linewidths=2)\n",
    "# Print a possible hyperplane, that is seperating the two classes.\n",
    "#we'll two points and draw the line between them (naive guess)\n",
    "plt.plot([-1],[-1])"
   ]
  },
  {
   "cell_type": "markdown",
   "metadata": {},
   "source": [
    "Strictly above (positive) or below (negative) a line through the origin with normal θ . Here we define \"above\" as θ ⋅ x > 0 , and define \"below\" similarly. Note: Please enter a list for θ as [ θ 1 , θ 2 ] . If there is no solution, enter [ 0 , 0 ]"
   ]
  },
  {
   "cell_type": "code",
   "execution_count": 28,
   "metadata": {},
   "outputs": [
    {
     "name": "stdout",
     "output_type": "stream",
     "text": [
      "[0. 0.]\n",
      "[0. 0.]\n",
      "[0. 0.]\n",
      "[0, 0, 0, 0, 0, 0, 0, 0, 0, 0, 0, 0]\n"
     ]
    }
   ],
   "source": [
    "classification_vector= np.array([1,\n",
    "                                 1,\n",
    "                                -1,\n",
    "                                -1])\n",
    "# This matrix has two variables and 5 observations\n",
    "data_vector= np.array([\n",
    "[-1,1],\n",
    "[1,-1],\n",
    "[1, 1],\n",
    "[2, 2]\n",
    "])\n",
    "#Initialize our theta vector according to the size of the data vector\n",
    "theta = np.zeros(len(data_vector[0])) \n",
    "##Count the number of errors\n",
    "errors = []\n",
    "##Loop it 10 times\n",
    "epochs = 3\n",
    "##Loop de Perceptron algorithm to update the weights\n",
    "for epoch in range(0,epochs): #training part, gradient descent part\n",
    "    for i, x in enumerate(data_vector):\n",
    "        if (np.dot(data_vector[i], theta)) < 0:\n",
    "            theta= theta + np.dot(classification_vector[i], data_vector[i])\n",
    "            error= 1\n",
    "        else:\n",
    "            theta= theta\n",
    "            error=0\n",
    "        errors.append(error)\n",
    "    print(theta)\n",
    "print(errors)"
   ]
  },
  {
   "cell_type": "markdown",
   "metadata": {},
   "source": [
    "Strictly above (positive) or below (negative) a line with normal θ and offset θ0. Here we define \"above\" as θ⋅x+θ0>0, and define \"below\" similarly. Note: If there is no solution, enter θ=[0,0] and θ0=0."
   ]
  },
  {
   "cell_type": "code",
   "execution_count": null,
   "metadata": {},
   "outputs": [],
   "source": []
  }
 ],
 "metadata": {
  "kernelspec": {
   "display_name": "Python 3",
   "language": "python",
   "name": "python3"
  },
  "language_info": {
   "codemirror_mode": {
    "name": "ipython",
    "version": 3
   },
   "file_extension": ".py",
   "mimetype": "text/x-python",
   "name": "python",
   "nbconvert_exporter": "python",
   "pygments_lexer": "ipython3",
   "version": "3.7.4"
  }
 },
 "nbformat": 4,
 "nbformat_minor": 4
}
