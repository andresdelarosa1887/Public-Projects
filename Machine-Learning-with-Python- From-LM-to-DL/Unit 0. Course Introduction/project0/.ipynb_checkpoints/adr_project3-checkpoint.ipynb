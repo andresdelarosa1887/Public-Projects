{
 "cells": [
  {
   "cell_type": "markdown",
   "metadata": {},
   "source": [
    "# Average Perceptron Algorithm\n",
    "1 point possible (graded)\n",
    "The average perceptron will add a modification to the original perceptron algorithm: since the basic algorithm continues updating as the algorithm runs, nudging parameters in possibly conflicting directions, it is better to take an average of those parameters as the final answer. Every update of the algorithm is the same as before. The returned parameters θ, however, are an average of the θs across the nT steps:\n",
    "\n",
    "θfinal=1nT(θ(1)+θ(2)+...+θ(nT))\n",
    "\n",
    "You will now implement the average perceptron algorithm. This function should be constructed similarly to the Full Perceptron Algorithm above, except that it should return the average values of θ and  "
   ]
  },
  {
   "cell_type": "code",
   "execution_count": 129,
   "metadata": {},
   "outputs": [],
   "source": [
    "##Function used instructed by  the exercise.. craaazy stuff bro \n",
    "from string import punctuation, digits\n",
    "import numpy as np\n",
    "import random\n",
    "from matplotlib import pyplot as plt\n",
    "%matplotlib inline\n",
    "\n",
    "def get_order(n_samples):\n",
    "    try:\n",
    "        with open(str(n_samples) + '.txt') as fp:\n",
    "            line = fp.readline()\n",
    "            return list(map(int, line.split(',')))\n",
    "    except FileNotFoundError:\n",
    "        random.seed(1)\n",
    "        indices = list(range(n_samples))\n",
    "        random.shuffle(indices)\n",
    "        return indices"
   ]
  },
  {
   "cell_type": "code",
   "execution_count": 130,
   "metadata": {},
   "outputs": [],
   "source": [
    "def average_perceptron(feature_matrix, labels, T):\n",
    "    theta_0  = 0\n",
    "    sum_theta_0= 0 \n",
    "    theta= np.zeros(len(feature_matrix[0])) \n",
    "    sum_theta= np.zeros(len(feature_matrix[0]))  \n",
    "    counter = 0\n",
    "    for epoch in range(T): \n",
    "        for i in get_order(feature_matrix.shape[0]):\n",
    "            counter= counter + 1 \n",
    "            if (labels[i]*(np.dot(feature_matrix[i], theta) + theta_0)) <= 0:\n",
    "                theta= theta + (np.dot(labels[i], feature_matrix[i]))\n",
    "                theta_0= (theta_0 + labels[i])\n",
    "                sum_theta= sum_theta + theta \n",
    "                sum_theta_0= sum_theta_0 + theta_0\n",
    "        return ((sum_theta/counter), (sum_theta_0/counter), counter)"
   ]
  },
  {
   "cell_type": "code",
   "execution_count": 131,
   "metadata": {},
   "outputs": [
    {
     "data": {
      "text/plain": [
       "(array([ 0.34771798, -0.09446718,  0.53851473,  0.31878407, -0.20312558]),\n",
       " 0.1,\n",
       " 10)"
      ]
     },
     "execution_count": 131,
     "metadata": {},
     "output_type": "execute_result"
    }
   ],
   "source": [
    "#Example\n",
    "feature_matrix: [[-0.11286146, -0.22198953, -0.14659728,  0.14990055,  0.34362585,  0.29124364, 0.36645741, -0.38395815,  0.48403646, -0.42986177],\n",
    " [-0.19900484,  0.13816285,  0.17549319, -0.06134774, -0.14103174,  0.38151342, -0.21006459,  0.40763644,  0.43762875, -0.21409213],\n",
    " [ 0.16840433,  0.24093196,  0.41094187, -0.13137612,  0.1754318, -0.24527301, 0.38110738,  0.4539427,  -0.15527533,  0.12831007],\n",
    " [ 0.02549292,  0.44185929,  0.15622804,  0.47588618,  0.48284325,  0.02557214, 0.02240127, -0.14858076 ,-0.14493135, 0.4540024 ],\n",
    " [ 0.45530607,  0.36479921,  0.41953732,  0.2119896, -0.12570394, -0.24385637, -0.25120552,  0.44586771, -0.03470791,  0.16483698],\n",
    " [ 0.42528185, 0.32090971,  0.48880699,  0.45960949, -0.01070594, -0.45291631, 0.39311651,  0.08046444, -0.35589567, -0.35737133],\n",
    " [-0.2120859,-0.33509341,  0.05469693, 0.2267908, -0.31843438, -0.45843391, -0.01369163, -0.19757312, -0.01284696, -0.46651944],\n",
    " [-0.2120859,  -0.33509341,  0.05469693,  0.2267908,  -0.31843438, -0.45843391, -0.01369163, -0.19757312, -0.01284696, -0.46651944],\n",
    " [-0.36050136, 0.00698636,  0.42998158, -0.06502174,  0.18412658, -0.28876618, -0.11885911, -0.38759219,  0.39600346,  0.47586519],\n",
    " [ 0.36094748, -0.33641301, -0.28465536, -0.28115422,  0.25607074,  0.27662758,0.27289085, -0.42365394, -0.02593193, -0.4825735]]\n",
    "labels: [-1 ,-1  ,1 ,-1 ,-1 ,-1 ,-1 , 1 , 1, -1]\n",
    "T: 1\n",
    "average_perceptron(feature_matrix, labels, T)"
   ]
  },
  {
   "cell_type": "code",
   "execution_count": 149,
   "metadata": {},
   "outputs": [],
   "source": [
    "def perceptron_single_step_update(\n",
    "        feature_vector,\n",
    "        label,\n",
    "        current_theta,\n",
    "        current_theta_0):\n",
    "    \n",
    "    if label*(feature_vector@current_theta + current_theta_0) <= 0:\n",
    "        current_theta += label*feature_vector\n",
    "        current_theta_0 += label\n",
    "    return (current_theta, current_theta_0)\n",
    "\n",
    "\n",
    "\n",
    "\n",
    "def average_perceptron(feature_matrix, labels, T):\n",
    "    theta = np.ones(feature_matrix.shape[1])\n",
    "    theta_0 = np.zeros(1)\n",
    "    sum_theta = np.zeros(feature_matrix.shape[1])\n",
    "    sum_theta_0 = np.zeros(1)\n",
    "    update_counter = 0\n",
    "    for t in range(T):\n",
    "        for i in get_order(feature_matrix.shape[0]):\n",
    "            update_counter += 1\n",
    "            theta, theta_0 = perceptron_single_step_update(feature_matrix[i],\n",
    "                                                          labels[i],\n",
    "                                                          theta,\n",
    "                                                          theta_0)\n",
    "            sum_theta += theta\n",
    "            sum_theta_0 += theta_0\n",
    "            return((sum_theta/update_counter, sum_theta_0/update_counter))"
   ]
  },
  {
   "cell_type": "code",
   "execution_count": 150,
   "metadata": {},
   "outputs": [
    {
     "data": {
      "text/plain": [
       "(array([1.05074969, 0.69023655, 1.18189043, 0.78334924, 0.84714155]),\n",
       " array([-1.]))"
      ]
     },
     "execution_count": 150,
     "metadata": {},
     "output_type": "execute_result"
    }
   ],
   "source": [
    "#Example\n",
    "feature_matrix: [[-0.11286146, -0.22198953, -0.14659728,  0.14990055,  0.34362585,  0.29124364, 0.36645741, -0.38395815,  0.48403646, -0.42986177],\n",
    " [-0.19900484,  0.13816285,  0.17549319, -0.06134774, -0.14103174,  0.38151342, -0.21006459,  0.40763644,  0.43762875, -0.21409213],\n",
    " [ 0.16840433,  0.24093196,  0.41094187, -0.13137612,  0.1754318, -0.24527301, 0.38110738,  0.4539427,  -0.15527533,  0.12831007],\n",
    " [ 0.02549292,  0.44185929,  0.15622804,  0.47588618,  0.48284325,  0.02557214, 0.02240127, -0.14858076 ,-0.14493135, 0.4540024 ],\n",
    " [ 0.45530607,  0.36479921,  0.41953732,  0.2119896, -0.12570394, -0.24385637, -0.25120552,  0.44586771, -0.03470791,  0.16483698],\n",
    " [ 0.42528185, 0.32090971,  0.48880699,  0.45960949, -0.01070594, -0.45291631, 0.39311651,  0.08046444, -0.35589567, -0.35737133],\n",
    " [-0.2120859,-0.33509341,  0.05469693, 0.2267908, -0.31843438, -0.45843391, -0.01369163, -0.19757312, -0.01284696, -0.46651944],\n",
    " [-0.2120859,  -0.33509341,  0.05469693,  0.2267908,  -0.31843438, -0.45843391, -0.01369163, -0.19757312, -0.01284696, -0.46651944],\n",
    " [-0.36050136, 0.00698636,  0.42998158, -0.06502174,  0.18412658, -0.28876618, -0.11885911, -0.38759219,  0.39600346,  0.47586519],\n",
    " [ 0.36094748, -0.33641301, -0.28465536, -0.28115422,  0.25607074,  0.27662758,0.27289085, -0.42365394, -0.02593193, -0.4825735]]\n",
    "labels: [-1 ,-1  ,1 ,-1 ,-1 ,-1 ,-1 , 1 , 1, -1]\n",
    "T: 1\n",
    "average_perceptron(feature_matrix, labels, T)"
   ]
  },
  {
   "cell_type": "code",
   "execution_count": 153,
   "metadata": {},
   "outputs": [
    {
     "ename": "NameError",
     "evalue": "name 'feature_matrix_shape' is not defined",
     "output_type": "error",
     "traceback": [
      "\u001b[1;31m---------------------------------------------------------------------------\u001b[0m",
      "\u001b[1;31mNameError\u001b[0m                                 Traceback (most recent call last)",
      "\u001b[1;32m<ipython-input-153-ff81f3fc6450>\u001b[0m in \u001b[0;36m<module>\u001b[1;34m\u001b[0m\n\u001b[1;32m----> 1\u001b[1;33m \u001b[0mfeature_matrix_shape\u001b[0m\u001b[1;33m[\u001b[0m\u001b[1;36m0\u001b[0m\u001b[1;33m]\u001b[0m\u001b[1;33m\u001b[0m\u001b[1;33m\u001b[0m\u001b[0m\n\u001b[0m",
      "\u001b[1;31mNameError\u001b[0m: name 'feature_matrix_shape' is not defined"
     ]
    }
   ],
   "source": []
  }
 ],
 "metadata": {
  "kernelspec": {
   "display_name": "Python 3",
   "language": "python",
   "name": "python3"
  },
  "language_info": {
   "codemirror_mode": {
    "name": "ipython",
    "version": 3
   },
   "file_extension": ".py",
   "mimetype": "text/x-python",
   "name": "python",
   "nbconvert_exporter": "python",
   "pygments_lexer": "ipython3",
   "version": "3.7.1"
  }
 },
 "nbformat": 4,
 "nbformat_minor": 2
}
